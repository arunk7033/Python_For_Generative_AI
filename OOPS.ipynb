{
  "nbformat": 4,
  "nbformat_minor": 0,
  "metadata": {
    "colab": {
      "provenance": []
    },
    "kernelspec": {
      "name": "python3",
      "display_name": "Python 3"
    },
    "language_info": {
      "name": "python"
    }
  },
  "cells": [
    {
      "cell_type": "markdown",
      "source": [
        "# 1. OOPS"
      ],
      "metadata": {
        "id": "PZQXiAV2V-G6"
      }
    },
    {
      "cell_type": "markdown",
      "source": [
        "\"Oops\" stands for Object-Oriented Programming System"
      ],
      "metadata": {
        "id": "f6FX-hJGXmk6"
      }
    },
    {
      "cell_type": "code",
      "execution_count": 4,
      "metadata": {
        "id": "4e1d9ea2-9cd4-472d-a1c2-5c763334d982"
      },
      "outputs": [],
      "source": [
        "a= 1"
      ]
    },
    {
      "cell_type": "code",
      "execution_count": 5,
      "metadata": {
        "id": "10864483-fdee-4790-8caf-54e5fa32d0e2",
        "outputId": "c9150308-2659-4ad1-ff36-3de5e6a61d13",
        "colab": {
          "base_uri": "https://localhost:8080/"
        }
      },
      "outputs": [
        {
          "output_type": "stream",
          "name": "stdout",
          "text": [
            "<class 'int'>\n"
          ]
        }
      ],
      "source": [
        "print(type(a))"
      ]
    },
    {
      "cell_type": "code",
      "execution_count": 6,
      "metadata": {
        "id": "97f7fc1a-9f08-4761-b2b3-778706dcaadd",
        "outputId": "602bd6e0-5bfb-47ee-fec7-ed9791dbdacd",
        "colab": {
          "base_uri": "https://localhost:8080/"
        }
      },
      "outputs": [
        {
          "output_type": "stream",
          "name": "stdout",
          "text": [
            "<class 'str'>\n"
          ]
        }
      ],
      "source": [
        "print(type(\"pwskills\"))"
      ]
    },
    {
      "cell_type": "code",
      "execution_count": 7,
      "metadata": {
        "id": "d1d30468-6a87-4e70-ba0d-9c1192ba5565"
      },
      "outputs": [],
      "source": [
        "class test:\n",
        "    pass\n"
      ]
    },
    {
      "cell_type": "code",
      "execution_count": 8,
      "metadata": {
        "id": "e0df25d7-7b4e-40bf-9993-5db5c5b5a953"
      },
      "outputs": [],
      "source": [
        "a = test()"
      ]
    },
    {
      "cell_type": "code",
      "execution_count": 9,
      "metadata": {
        "id": "f8b23ac6-6749-4e79-8f87-0c68ceabbb5d",
        "outputId": "e0d26297-c6fb-414f-e7df-e41814eafe13",
        "colab": {
          "base_uri": "https://localhost:8080/"
        }
      },
      "outputs": [
        {
          "output_type": "stream",
          "name": "stdout",
          "text": [
            "<class '__main__.test'>\n"
          ]
        }
      ],
      "source": [
        "print(type(a))"
      ]
    },
    {
      "cell_type": "code",
      "execution_count": 10,
      "metadata": {
        "id": "288f5741-3a63-4f02-abee-cc684180a279"
      },
      "outputs": [],
      "source": [
        "class pwskills:\n",
        "\n",
        "    def welcome_msg(self):\n",
        "        print(\"welcome to pwskills\")"
      ]
    },
    {
      "cell_type": "code",
      "execution_count": 11,
      "metadata": {
        "id": "563bf795-b761-438b-8b0c-f2fd5d97ba96"
      },
      "outputs": [],
      "source": [
        "rohan = pwskills()"
      ]
    },
    {
      "cell_type": "code",
      "execution_count": 12,
      "metadata": {
        "id": "a2fc2f97-ff9f-46de-af3b-59b7dd8199e7",
        "outputId": "6cf50696-2602-48f9-d809-aae9603b38f8",
        "colab": {
          "base_uri": "https://localhost:8080/"
        }
      },
      "outputs": [
        {
          "output_type": "stream",
          "name": "stdout",
          "text": [
            "welcome to pwskills\n"
          ]
        }
      ],
      "source": [
        "rohan.welcome_msg()"
      ]
    },
    {
      "cell_type": "code",
      "execution_count": 13,
      "metadata": {
        "id": "da0d4d91-700e-48ef-82c6-a16dd68f1a32"
      },
      "outputs": [],
      "source": [
        "sohan = pwskills()"
      ]
    },
    {
      "cell_type": "code",
      "execution_count": 14,
      "metadata": {
        "id": "67b55714-d922-47e2-8ceb-a71bfa1c7247",
        "outputId": "b22a5692-a2ee-47f1-e08e-94bc71bbdb72",
        "colab": {
          "base_uri": "https://localhost:8080/"
        }
      },
      "outputs": [
        {
          "output_type": "stream",
          "name": "stdout",
          "text": [
            "welcome to pwskills\n"
          ]
        }
      ],
      "source": [
        "sohan.welcome_msg()"
      ]
    },
    {
      "cell_type": "code",
      "execution_count": 15,
      "metadata": {
        "id": "c697ea71-a91d-4544-b837-d6ebaf96b28e"
      },
      "outputs": [],
      "source": [
        "a = 1"
      ]
    },
    {
      "cell_type": "code",
      "execution_count": 16,
      "metadata": {
        "id": "7dea4172-c4c0-4a6e-a3eb-12adbe594b8d"
      },
      "outputs": [],
      "source": [
        "b = 2"
      ]
    },
    {
      "cell_type": "code",
      "execution_count": 17,
      "metadata": {
        "id": "8f04514c-8747-4762-9046-e59428ad3942",
        "outputId": "0ad40f8e-3604-4a33-8658-d1cde36177f4",
        "colab": {
          "base_uri": "https://localhost:8080/"
        }
      },
      "outputs": [
        {
          "output_type": "execute_result",
          "data": {
            "text/plain": [
              "1"
            ]
          },
          "metadata": {},
          "execution_count": 17
        }
      ],
      "source": [
        "a"
      ]
    },
    {
      "cell_type": "code",
      "execution_count": 18,
      "metadata": {
        "id": "33f8fc37-0c11-48c7-9690-ee93f7e8394d",
        "outputId": "d6f25d06-dc40-47b5-d295-5daab8e4c17e",
        "colab": {
          "base_uri": "https://localhost:8080/"
        }
      },
      "outputs": [
        {
          "output_type": "execute_result",
          "data": {
            "text/plain": [
              "2"
            ]
          },
          "metadata": {},
          "execution_count": 18
        }
      ],
      "source": [
        "b"
      ]
    },
    {
      "cell_type": "code",
      "execution_count": 19,
      "metadata": {
        "id": "dfd34ab6-ad2d-419a-a2d0-01ef522c33de"
      },
      "outputs": [],
      "source": [
        "class pwskills1:\n",
        "\n",
        "    def __init__(self ,phone_number , email_id, student_id ):\n",
        "\n",
        "        self.phone_number = phone_number\n",
        "        self.email_id = email_id\n",
        "        self.student_id = student_id\n",
        "\n",
        "\n",
        "    def return_student_detials(self):\n",
        "        return self.phone_number, self.email_id , self.student_id\n",
        "\n"
      ]
    },
    {
      "cell_type": "code",
      "execution_count": 20,
      "metadata": {
        "id": "60639256-0a1e-49c6-8401-dd893774386a"
      },
      "outputs": [],
      "source": [
        "sohan = pwskills1(999679869 , \"sohan@gmail.com\" , 102)"
      ]
    },
    {
      "cell_type": "code",
      "execution_count": 21,
      "metadata": {
        "id": "31dcb04d-f1a9-4ad0-b4eb-f0a9318c0084",
        "outputId": "33de688d-6981-4274-e3f0-e378a3ae7f34",
        "colab": {
          "base_uri": "https://localhost:8080/"
        }
      },
      "outputs": [
        {
          "output_type": "execute_result",
          "data": {
            "text/plain": [
              "999679869"
            ]
          },
          "metadata": {},
          "execution_count": 21
        }
      ],
      "source": [
        "sohan.phone_number"
      ]
    },
    {
      "cell_type": "code",
      "execution_count": 22,
      "metadata": {
        "id": "d00d919b-5e7d-4eac-8c5f-b33a49bac7aa",
        "outputId": "429c8b90-2445-4807-819e-4b4097c8a7f5",
        "colab": {
          "base_uri": "https://localhost:8080/"
        }
      },
      "outputs": [
        {
          "output_type": "execute_result",
          "data": {
            "text/plain": [
              "(999679869, 'sohan@gmail.com', 102)"
            ]
          },
          "metadata": {},
          "execution_count": 22
        }
      ],
      "source": [
        "sohan.return_student_detials()"
      ]
    },
    {
      "cell_type": "code",
      "execution_count": 23,
      "metadata": {
        "id": "62bd0500-9ce4-4e38-9752-1906aa35419c"
      },
      "outputs": [],
      "source": [
        "rohan = pwskills1(95435665, \"rohan@gmail.com\" , 101)"
      ]
    },
    {
      "cell_type": "code",
      "execution_count": 24,
      "metadata": {
        "id": "427bb866-93c8-461b-80ce-03adf81b9bae",
        "outputId": "85f85b53-5f4d-4ae4-ffeb-0a62d5a7e91b",
        "colab": {
          "base_uri": "https://localhost:8080/"
        }
      },
      "outputs": [
        {
          "output_type": "execute_result",
          "data": {
            "text/plain": [
              "95435665"
            ]
          },
          "metadata": {},
          "execution_count": 24
        }
      ],
      "source": [
        "rohan.phone_number"
      ]
    },
    {
      "cell_type": "code",
      "execution_count": 25,
      "metadata": {
        "id": "3a24f76a-7854-463e-816d-b9301aeefed1",
        "outputId": "adcf0855-8932-4dcf-e56c-fbbf5e16ee79",
        "colab": {
          "base_uri": "https://localhost:8080/",
          "height": 35
        }
      },
      "outputs": [
        {
          "output_type": "execute_result",
          "data": {
            "text/plain": [
              "'rohan@gmail.com'"
            ],
            "application/vnd.google.colaboratory.intrinsic+json": {
              "type": "string"
            }
          },
          "metadata": {},
          "execution_count": 25
        }
      ],
      "source": [
        "rohan.email_id"
      ]
    },
    {
      "cell_type": "code",
      "execution_count": 26,
      "metadata": {
        "id": "045f181e-7184-4e11-b15b-ab4a1700ea2d",
        "outputId": "c07b9933-57db-41d2-b187-e38ea81c1bed",
        "colab": {
          "base_uri": "https://localhost:8080/"
        }
      },
      "outputs": [
        {
          "output_type": "execute_result",
          "data": {
            "text/plain": [
              "101"
            ]
          },
          "metadata": {},
          "execution_count": 26
        }
      ],
      "source": [
        "rohan.student_id"
      ]
    },
    {
      "cell_type": "code",
      "execution_count": 27,
      "metadata": {
        "id": "994b1323-0643-45ef-bc0c-8f6dd7d3e9a6",
        "outputId": "cc273d71-bf4e-4d35-e092-67b8f3c0f6c9",
        "colab": {
          "base_uri": "https://localhost:8080/"
        }
      },
      "outputs": [
        {
          "output_type": "execute_result",
          "data": {
            "text/plain": [
              "(95435665, 'rohan@gmail.com', 101)"
            ]
          },
          "metadata": {},
          "execution_count": 27
        }
      ],
      "source": [
        "rohan.return_student_detials()"
      ]
    },
    {
      "cell_type": "code",
      "execution_count": 28,
      "metadata": {
        "id": "30daf6bd-4b27-4c61-a38d-6f1e22be94fe"
      },
      "outputs": [],
      "source": [
        "class pwskills2:\n",
        "\n",
        "    def __init__(sudh ,phone_number , email_id, student_id ):\n",
        "\n",
        "        sudh.phone_number = phone_number\n",
        "        sudh.email_id = email_id\n",
        "        sudh.student_id = student_id\n",
        "\n",
        "\n",
        "    def return_student_detials(sudh):\n",
        "        return sudh.phone_number, sudh.email_id , sudh.student_id"
      ]
    },
    {
      "cell_type": "code",
      "execution_count": 29,
      "metadata": {
        "id": "864b9c7a-dbf7-48ee-be6b-1c488fd3753c"
      },
      "outputs": [],
      "source": [
        "mohan = pwskills2(99699579567, \"mohan@gmail.com\" , 234)"
      ]
    },
    {
      "cell_type": "code",
      "execution_count": 30,
      "metadata": {
        "id": "748125ab-8f28-4e68-b6b7-2ba5b0a61db3",
        "outputId": "b0d58a3c-c553-4ce0-99cb-f148ffa201e7",
        "colab": {
          "base_uri": "https://localhost:8080/"
        }
      },
      "outputs": [
        {
          "output_type": "execute_result",
          "data": {
            "text/plain": [
              "99699579567"
            ]
          },
          "metadata": {},
          "execution_count": 30
        }
      ],
      "source": [
        "mohan.phone_number"
      ]
    },
    {
      "cell_type": "code",
      "execution_count": 31,
      "metadata": {
        "id": "ccebf48d-cc13-492a-bcdc-f145a938dc27",
        "outputId": "9dbe01c6-6cfc-44fb-9147-28470559519e",
        "colab": {
          "base_uri": "https://localhost:8080/"
        }
      },
      "outputs": [
        {
          "output_type": "execute_result",
          "data": {
            "text/plain": [
              "(99699579567, 'mohan@gmail.com', 234)"
            ]
          },
          "metadata": {},
          "execution_count": 31
        }
      ],
      "source": [
        "mohan.return_student_detials()"
      ]
    },
    {
      "cell_type": "code",
      "execution_count": 32,
      "metadata": {
        "id": "54e3f14b-fd9b-4257-bc6c-c496d3be0ce3"
      },
      "outputs": [],
      "source": [
        "class pwskills3:\n",
        "\n",
        "    def __init__(sudh ,phone_number , email_id, student_id ):\n",
        "\n",
        "        sudh.phone_number1 = phone_number\n",
        "        sudh.email_id = email_id\n",
        "        sudh.student_id = student_id\n",
        "\n",
        "\n",
        "    def return_student_detials(sudh):\n",
        "        return sudh.phone_number1, sudh.email_id , sudh.student_id"
      ]
    },
    {
      "cell_type": "code",
      "execution_count": 33,
      "metadata": {
        "id": "57755fd7-f0c6-492d-9b04-4ead901ca7d5"
      },
      "outputs": [],
      "source": [
        "rohan = pwskills3(999735,\"rohan@gmail.com\" , 123)"
      ]
    },
    {
      "cell_type": "code",
      "execution_count": 34,
      "metadata": {
        "id": "891262b7-bf86-4ac7-aa89-a97c5b802d63",
        "outputId": "467e7e65-e8d7-45c9-893a-77ea4a29bc43",
        "colab": {
          "base_uri": "https://localhost:8080/"
        }
      },
      "outputs": [
        {
          "output_type": "execute_result",
          "data": {
            "text/plain": [
              "999735"
            ]
          },
          "metadata": {},
          "execution_count": 34
        }
      ],
      "source": [
        "rohan.phone_number1"
      ]
    },
    {
      "cell_type": "code",
      "execution_count": 35,
      "metadata": {
        "id": "9591bc00-e840-4500-abd7-14ba31140bb5",
        "outputId": "084e9054-3ed1-42cf-9876-c40a03c4e53a",
        "colab": {
          "base_uri": "https://localhost:8080/"
        }
      },
      "outputs": [
        {
          "output_type": "execute_result",
          "data": {
            "text/plain": [
              "(999735, 'rohan@gmail.com', 123)"
            ]
          },
          "metadata": {},
          "execution_count": 35
        }
      ],
      "source": [
        "rohan.return_student_detials()"
      ]
    },
    {
      "cell_type": "markdown",
      "source": [
        "#2. Polymorphism"
      ],
      "metadata": {
        "id": "kLYhytqxWNLK"
      }
    },
    {
      "cell_type": "code",
      "execution_count": 36,
      "metadata": {
        "id": "8ab79159-8af1-4478-a867-13e908004fb1"
      },
      "outputs": [],
      "source": [
        "def test(a,b) :\n",
        "    return a+b"
      ]
    },
    {
      "cell_type": "code",
      "execution_count": 37,
      "metadata": {
        "id": "f2116d18-7ace-450b-af8a-ce6b3827dff6",
        "outputId": "ae2abb95-d07f-4778-ae0d-03279f85aead",
        "colab": {
          "base_uri": "https://localhost:8080/"
        }
      },
      "outputs": [
        {
          "output_type": "execute_result",
          "data": {
            "text/plain": [
              "9"
            ]
          },
          "metadata": {},
          "execution_count": 37
        }
      ],
      "source": [
        "test(4,5)"
      ]
    },
    {
      "cell_type": "code",
      "execution_count": 38,
      "metadata": {
        "id": "240ced4b-7b1e-492c-a95f-adee1f1b2661",
        "outputId": "1b15d973-17e0-434f-9c01-1b77673447c5",
        "colab": {
          "base_uri": "https://localhost:8080/",
          "height": 35
        }
      },
      "outputs": [
        {
          "output_type": "execute_result",
          "data": {
            "text/plain": [
              "'sudh kumar'"
            ],
            "application/vnd.google.colaboratory.intrinsic+json": {
              "type": "string"
            }
          },
          "metadata": {},
          "execution_count": 38
        }
      ],
      "source": [
        "test(\"sudh \" , \"kumar\")"
      ]
    },
    {
      "cell_type": "code",
      "execution_count": 39,
      "metadata": {
        "id": "24d11ddd-f000-48a4-b203-e21f091e3e33",
        "outputId": "c1c6fafc-4c0a-474f-fd0d-c49947fe6b6e",
        "colab": {
          "base_uri": "https://localhost:8080/"
        }
      },
      "outputs": [
        {
          "output_type": "execute_result",
          "data": {
            "text/plain": [
              "[2, 3, 4, 5, 5, 4, 5, 6, 7]"
            ]
          },
          "metadata": {},
          "execution_count": 39
        }
      ],
      "source": [
        "test([2,3,4,5,5] , [4,5,6,7])"
      ]
    },
    {
      "cell_type": "code",
      "execution_count": 40,
      "metadata": {
        "id": "6d164d89-f591-4af7-9192-a8d33e783ffa"
      },
      "outputs": [],
      "source": [
        "class data_science:\n",
        "    def syllabus(self) :\n",
        "        print(\"this is my method for data science syllbaus \" )"
      ]
    },
    {
      "cell_type": "code",
      "execution_count": 41,
      "metadata": {
        "id": "299f0818-3a64-4f83-b6e9-e337f3afb8b6"
      },
      "outputs": [],
      "source": [
        "class web_dev :\n",
        "    def syllabus(self) :\n",
        "        print(\"this is my method for web dev \" )"
      ]
    },
    {
      "cell_type": "code",
      "execution_count": 42,
      "metadata": {
        "id": "45dd5348-cde8-4f95-9fa6-e274b65030a4"
      },
      "outputs": [],
      "source": [
        "def class_parcer(class_obj) :\n",
        "    for i in class_obj :\n",
        "        i.syllabus()"
      ]
    },
    {
      "cell_type": "code",
      "execution_count": 43,
      "metadata": {
        "id": "778679dd-f697-46b9-afe6-4970ba4a3c2b"
      },
      "outputs": [],
      "source": [
        "obj_data_science= data_science()"
      ]
    },
    {
      "cell_type": "code",
      "execution_count": 44,
      "metadata": {
        "id": "3d486158-770a-49c9-a733-ed9327f054d6"
      },
      "outputs": [],
      "source": [
        "obj_web_dev = web_dev()"
      ]
    },
    {
      "cell_type": "code",
      "execution_count": 45,
      "metadata": {
        "id": "c803ea82-0def-4071-a8b1-556198dde473"
      },
      "outputs": [],
      "source": [
        "class_ojb = [obj_data_science , obj_web_dev]"
      ]
    },
    {
      "cell_type": "code",
      "execution_count": 46,
      "metadata": {
        "id": "478dc022-ab61-4c2b-bada-36ce81e98bd9",
        "outputId": "87c1df75-e586-4e5c-b9a1-07be9712283c",
        "colab": {
          "base_uri": "https://localhost:8080/"
        }
      },
      "outputs": [
        {
          "output_type": "stream",
          "name": "stdout",
          "text": [
            "this is my method for data science syllbaus \n",
            "this is my method for web dev \n"
          ]
        }
      ],
      "source": [
        "class_parcer(class_ojb)"
      ]
    },
    {
      "cell_type": "markdown",
      "source": [
        "# 3. Encapsulation"
      ],
      "metadata": {
        "id": "NRZrYjC6Wc0h"
      }
    },
    {
      "cell_type": "code",
      "execution_count": 47,
      "metadata": {
        "id": "9831a0bd-04f4-4039-a4ff-62554b5294f3"
      },
      "outputs": [],
      "source": [
        "class test :\n",
        "    def __init__(self , a,b ) :\n",
        "        self.a = a\n",
        "        self.b = b"
      ]
    },
    {
      "cell_type": "code",
      "execution_count": 48,
      "metadata": {
        "id": "e74fd49f-940b-4920-b06d-e4f87efee3e4"
      },
      "outputs": [],
      "source": [
        "t = test(45,56)"
      ]
    },
    {
      "cell_type": "code",
      "execution_count": 49,
      "metadata": {
        "id": "d2e12dab-a101-48f3-b749-eacfd96b0fbe",
        "outputId": "f5d82f0d-8eb7-40c7-edda-3490e77f10fa",
        "colab": {
          "base_uri": "https://localhost:8080/"
        }
      },
      "outputs": [
        {
          "output_type": "execute_result",
          "data": {
            "text/plain": [
              "45"
            ]
          },
          "metadata": {},
          "execution_count": 49
        }
      ],
      "source": [
        "t.a"
      ]
    },
    {
      "cell_type": "code",
      "execution_count": 50,
      "metadata": {
        "id": "1fabeddd-a9e8-4ea0-9c28-299c87ce85df",
        "outputId": "d45596cf-dd6c-4b76-d4e2-27c15c5d49dc",
        "colab": {
          "base_uri": "https://localhost:8080/"
        }
      },
      "outputs": [
        {
          "output_type": "execute_result",
          "data": {
            "text/plain": [
              "56"
            ]
          },
          "metadata": {},
          "execution_count": 50
        }
      ],
      "source": [
        "t.b"
      ]
    },
    {
      "cell_type": "code",
      "execution_count": 51,
      "metadata": {
        "id": "ceb667e8-972f-4303-9fb2-d14cc914dca6"
      },
      "outputs": [],
      "source": [
        "t.a = 3243"
      ]
    },
    {
      "cell_type": "code",
      "execution_count": 52,
      "metadata": {
        "id": "7f0c27cc-0cef-4d0e-acae-dae14cae4d12",
        "outputId": "f9b0f803-6650-4895-e196-66829dbc81e5",
        "colab": {
          "base_uri": "https://localhost:8080/"
        }
      },
      "outputs": [
        {
          "output_type": "execute_result",
          "data": {
            "text/plain": [
              "3243"
            ]
          },
          "metadata": {},
          "execution_count": 52
        }
      ],
      "source": [
        "t.a"
      ]
    },
    {
      "cell_type": "code",
      "execution_count": 53,
      "metadata": {
        "id": "c3da9ce7-7998-4ab7-af6e-3e361e738e2c"
      },
      "outputs": [],
      "source": [
        "class car:\n",
        "\n",
        "    def __init__(self , year , make , model ,speed ) :\n",
        "        self.__year = year\n",
        "        self.__make = make\n",
        "        self.__model = model\n",
        "        self.__speed = 0\n",
        "\n",
        "    def set_speed(self , speed) :\n",
        "        self.__speed = 0 if speed < 0 else speed\n",
        "\n",
        "    def get_speed(self) :\n",
        "        return self.__speed\n",
        "\n",
        "\n"
      ]
    },
    {
      "cell_type": "code",
      "source": [
        "obj_car = car(2021 , \"toyota\" , \"innova\" , 12)"
      ],
      "metadata": {
        "id": "0t1_Y59_aBGv"
      },
      "execution_count": 57,
      "outputs": []
    },
    {
      "cell_type": "code",
      "execution_count": 58,
      "metadata": {
        "id": "dad5ce55-f0be-449a-847d-e20b73ed06e0",
        "outputId": "8714e46f-b9e8-4ab7-df61-ba8772f6ac67",
        "colab": {
          "base_uri": "https://localhost:8080/"
        }
      },
      "outputs": [
        {
          "output_type": "execute_result",
          "data": {
            "text/plain": [
              "0"
            ]
          },
          "metadata": {},
          "execution_count": 58
        }
      ],
      "source": [
        "obj_car.get_speed()"
      ]
    },
    {
      "cell_type": "code",
      "execution_count": 59,
      "metadata": {
        "id": "9bec78c7-d223-47f6-94a9-698219f59456"
      },
      "outputs": [],
      "source": [
        "obj_car.set_speed(-1234)"
      ]
    },
    {
      "cell_type": "code",
      "execution_count": 60,
      "metadata": {
        "id": "9db1cab1-3ba3-4acb-8333-0197752db51d"
      },
      "outputs": [],
      "source": [
        "obj_car.set_speed(3453)\n"
      ]
    },
    {
      "cell_type": "code",
      "execution_count": 56,
      "metadata": {
        "id": "598c6e82-5b10-4779-bdc9-c4c1a675a9a1"
      },
      "outputs": [],
      "source": [
        "obj_car = car(2021 , \"toyota\" , \"innova\" , 12)"
      ]
    },
    {
      "cell_type": "code",
      "execution_count": 61,
      "metadata": {
        "id": "52c98d8e-55fe-43af-86c5-a5a045102b11"
      },
      "outputs": [],
      "source": [
        "obj_car._car__year = 2023"
      ]
    },
    {
      "cell_type": "code",
      "execution_count": 62,
      "metadata": {
        "id": "9124702f-90fa-4c99-a2a2-d80affc5449c",
        "outputId": "92843566-7a41-4917-d2de-38ee29b58a34",
        "colab": {
          "base_uri": "https://localhost:8080/"
        }
      },
      "outputs": [
        {
          "output_type": "execute_result",
          "data": {
            "text/plain": [
              "2023"
            ]
          },
          "metadata": {},
          "execution_count": 62
        }
      ],
      "source": [
        "obj_car._car__year"
      ]
    },
    {
      "cell_type": "code",
      "execution_count": 63,
      "metadata": {
        "id": "6d4f939a-5370-4535-bcbc-69165267e639",
        "outputId": "5e590793-3933-46c1-b16b-834be0cf4346",
        "colab": {
          "base_uri": "https://localhost:8080/"
        }
      },
      "outputs": [
        {
          "output_type": "execute_result",
          "data": {
            "text/plain": [
              "3453"
            ]
          },
          "metadata": {},
          "execution_count": 63
        }
      ],
      "source": [
        "obj_car._car__speed"
      ]
    },
    {
      "cell_type": "code",
      "execution_count": 64,
      "metadata": {
        "id": "95ef5fe4-f718-4c9c-b906-150fe6de544d",
        "colab": {
          "base_uri": "https://localhost:8080/"
        },
        "outputId": "46e57200-19f0-41e8-f212-42360ff1a2f5"
      },
      "outputs": [
        {
          "output_type": "execute_result",
          "data": {
            "text/plain": [
              "<__main__.car at 0x7becb0408910>"
            ]
          },
          "metadata": {},
          "execution_count": 64
        }
      ],
      "source": [
        "obj_car"
      ]
    },
    {
      "cell_type": "code",
      "execution_count": 65,
      "metadata": {
        "id": "a98e0206-502b-40d5-a882-b6500409c8b5"
      },
      "outputs": [],
      "source": [
        "class bank_acount:\n",
        "\n",
        "    def __init__(self , balance ):\n",
        "        self.__balance = balance\n",
        "\n",
        "    def deposit(self , amount ) :\n",
        "        self.__balance = self.__balance + amount\n",
        "\n",
        "    def withdraw(self , amount) :\n",
        "        if self.__balance >= amount :\n",
        "            self.__balance = self.__balance -amount\n",
        "            return True\n",
        "        else :\n",
        "            return False\n",
        "\n",
        "    def get_balance(self) :\n",
        "        return self.__balance"
      ]
    },
    {
      "cell_type": "code",
      "execution_count": 66,
      "metadata": {
        "id": "00930c50-1955-4ea4-85f1-3d8a64ea9c85"
      },
      "outputs": [],
      "source": [
        "obj_bank_account = bank_acount(1000)"
      ]
    },
    {
      "cell_type": "code",
      "execution_count": 67,
      "metadata": {
        "id": "47ca37ea-0799-4c16-a4e9-412ec1fec30f",
        "outputId": "9f26e60f-26ac-496a-d0c8-207825103ed2",
        "colab": {
          "base_uri": "https://localhost:8080/"
        }
      },
      "outputs": [
        {
          "output_type": "execute_result",
          "data": {
            "text/plain": [
              "1000"
            ]
          },
          "metadata": {},
          "execution_count": 67
        }
      ],
      "source": [
        "obj_bank_account.get_balance()"
      ]
    },
    {
      "cell_type": "code",
      "execution_count": 68,
      "metadata": {
        "id": "48e464f4-efe9-468e-bc0d-978dc3385cd9"
      },
      "outputs": [],
      "source": [
        "obj_bank_account.deposit(6000)"
      ]
    },
    {
      "cell_type": "code",
      "execution_count": 69,
      "metadata": {
        "id": "d73b1908-af08-4144-8f09-8643142ae534",
        "outputId": "f45dddbb-b2ca-4c7d-f341-bb827cfcd921",
        "colab": {
          "base_uri": "https://localhost:8080/"
        }
      },
      "outputs": [
        {
          "output_type": "execute_result",
          "data": {
            "text/plain": [
              "7000"
            ]
          },
          "metadata": {},
          "execution_count": 69
        }
      ],
      "source": [
        "obj_bank_account.get_balance()"
      ]
    },
    {
      "cell_type": "code",
      "execution_count": 70,
      "metadata": {
        "id": "1d6051d9-2f21-4a1c-a2dc-809c1c4b27a1",
        "outputId": "5d0749a6-cd9c-42a2-9776-ceaa0eb8964a",
        "colab": {
          "base_uri": "https://localhost:8080/"
        }
      },
      "outputs": [
        {
          "output_type": "execute_result",
          "data": {
            "text/plain": [
              "False"
            ]
          },
          "metadata": {},
          "execution_count": 70
        }
      ],
      "source": [
        "obj_bank_account.withdraw(10000)"
      ]
    },
    {
      "cell_type": "code",
      "execution_count": 71,
      "metadata": {
        "id": "62cf667f-e708-49c3-89ac-0d5827659e13",
        "outputId": "fcb403de-561a-4d79-a1c1-c747dc604540",
        "colab": {
          "base_uri": "https://localhost:8080/"
        }
      },
      "outputs": [
        {
          "output_type": "execute_result",
          "data": {
            "text/plain": [
              "True"
            ]
          },
          "metadata": {},
          "execution_count": 71
        }
      ],
      "source": [
        "obj_bank_account.withdraw(2000)"
      ]
    },
    {
      "cell_type": "code",
      "execution_count": 72,
      "metadata": {
        "id": "da6e1e06-a879-420a-8b0b-1c3c1f9d9c30",
        "outputId": "f7344381-490b-4d56-d9d7-92f05e30c7db",
        "colab": {
          "base_uri": "https://localhost:8080/"
        }
      },
      "outputs": [
        {
          "output_type": "execute_result",
          "data": {
            "text/plain": [
              "5000"
            ]
          },
          "metadata": {},
          "execution_count": 72
        }
      ],
      "source": [
        "obj_bank_account.get_balance()"
      ]
    },
    {
      "cell_type": "markdown",
      "source": [
        "# 4. Inheritance"
      ],
      "metadata": {
        "id": "2rCPyFGqWhpb"
      }
    },
    {
      "cell_type": "code",
      "execution_count": 73,
      "metadata": {
        "id": "9ab60fdb-415a-4566-91f6-91f3a12d1d41"
      },
      "outputs": [],
      "source": [
        "class parent:\n",
        "\n",
        "    def test_parent(self) :\n",
        "        print(\"this is my parent class \")"
      ]
    },
    {
      "cell_type": "code",
      "execution_count": 74,
      "metadata": {
        "id": "45ee996d-e710-4d08-b9e1-65f9d1bb5dec"
      },
      "outputs": [],
      "source": [
        "class child(parent):\n",
        "    pass"
      ]
    },
    {
      "cell_type": "code",
      "execution_count": 75,
      "metadata": {
        "id": "072650c3-da37-441a-b636-462533ab41c2"
      },
      "outputs": [],
      "source": [
        "child_obj = child()"
      ]
    },
    {
      "cell_type": "code",
      "execution_count": 76,
      "metadata": {
        "id": "3ed93b5f-dcbf-49c3-9240-98da3c333cda",
        "outputId": "25ed6b9b-906f-4469-9edc-32d3683c09d7",
        "colab": {
          "base_uri": "https://localhost:8080/"
        }
      },
      "outputs": [
        {
          "output_type": "stream",
          "name": "stdout",
          "text": [
            "this is my parent class \n"
          ]
        }
      ],
      "source": [
        "child_obj.test_parent()"
      ]
    },
    {
      "cell_type": "code",
      "execution_count": 77,
      "metadata": {
        "id": "c6cf06d8-fc8b-49c8-b998-72123cedf565"
      },
      "outputs": [],
      "source": [
        "class class1 :\n",
        "    def test_class1(self) :\n",
        "        print(\"this is my class1 \" )"
      ]
    },
    {
      "cell_type": "code",
      "execution_count": 78,
      "metadata": {
        "id": "fae5e46f-91e4-44f5-b1fd-d13a622a5394"
      },
      "outputs": [],
      "source": [
        "class class2(class1) :\n",
        "    def test_class2(self) :\n",
        "        print(\"this is my class2\" )"
      ]
    },
    {
      "cell_type": "code",
      "execution_count": 79,
      "metadata": {
        "id": "19f2fd8b-ce85-4fa4-92fb-9ae0758675ed"
      },
      "outputs": [],
      "source": [
        "class class3(class2) :\n",
        "    def test_class3(self) :\n",
        "        print(\"this is my class3 \")"
      ]
    },
    {
      "cell_type": "code",
      "execution_count": 80,
      "metadata": {
        "id": "759a8eee-763d-405a-b897-0c7f4b78fdd4"
      },
      "outputs": [],
      "source": [
        "obj_class3  = class3()"
      ]
    },
    {
      "cell_type": "code",
      "execution_count": 81,
      "metadata": {
        "id": "78311224-7483-4de6-b6e5-3d4338e858f5",
        "outputId": "a6a038f2-895b-4940-ae2b-6f64f73518b6",
        "colab": {
          "base_uri": "https://localhost:8080/"
        }
      },
      "outputs": [
        {
          "output_type": "stream",
          "name": "stdout",
          "text": [
            "this is my class1 \n"
          ]
        }
      ],
      "source": [
        "obj_class3.test_class1()"
      ]
    },
    {
      "cell_type": "code",
      "execution_count": 82,
      "metadata": {
        "id": "dbd54953-d873-4dce-bf32-d9bbcdbeaf95",
        "outputId": "9116ba9c-afb6-4dab-8b63-d69e2ecb9275",
        "colab": {
          "base_uri": "https://localhost:8080/"
        }
      },
      "outputs": [
        {
          "output_type": "stream",
          "name": "stdout",
          "text": [
            "this is my class2\n"
          ]
        }
      ],
      "source": [
        "obj_class3.test_class2()"
      ]
    },
    {
      "cell_type": "code",
      "execution_count": 83,
      "metadata": {
        "id": "db9150d7-c6f4-4653-8186-6e377672edeb",
        "outputId": "40fd26ff-a907-4069-cddf-62abc13bf64e",
        "colab": {
          "base_uri": "https://localhost:8080/"
        }
      },
      "outputs": [
        {
          "output_type": "stream",
          "name": "stdout",
          "text": [
            "this is my class3 \n"
          ]
        }
      ],
      "source": [
        "obj_class3.test_class3()"
      ]
    },
    {
      "cell_type": "code",
      "execution_count": 84,
      "metadata": {
        "id": "a526ccfe-3d6e-484c-8013-88ad46bbac90"
      },
      "outputs": [],
      "source": [
        "class class1:\n",
        "    def test_class1(self) :\n",
        "        print(\"this is my class 1\" )"
      ]
    },
    {
      "cell_type": "code",
      "execution_count": 85,
      "metadata": {
        "id": "dca41736-065f-4f00-9030-5a9b4ef88ab8"
      },
      "outputs": [],
      "source": [
        "class class2 :\n",
        "    def test_class2(self) :\n",
        "        print(\"this is my class 2\")"
      ]
    },
    {
      "cell_type": "code",
      "execution_count": 86,
      "metadata": {
        "id": "8cd32f8a-79e1-4ace-9832-82ba590b283b"
      },
      "outputs": [],
      "source": [
        "class class3 (class1 , class2) :\n",
        "    pass"
      ]
    },
    {
      "cell_type": "code",
      "execution_count": 87,
      "metadata": {
        "id": "8d7481d7-4dd9-4c4f-a3b7-efe42db35dde"
      },
      "outputs": [],
      "source": [
        "obj_class3 = class3()"
      ]
    },
    {
      "cell_type": "code",
      "execution_count": 88,
      "metadata": {
        "id": "603c2733-71c5-480a-aa27-57e204321a33",
        "outputId": "c41e39f7-cdac-41d6-982a-371c8c7c8609",
        "colab": {
          "base_uri": "https://localhost:8080/"
        }
      },
      "outputs": [
        {
          "output_type": "stream",
          "name": "stdout",
          "text": [
            "this is my class 1\n"
          ]
        }
      ],
      "source": [
        "obj_class3.test_class1()"
      ]
    },
    {
      "cell_type": "code",
      "execution_count": 89,
      "metadata": {
        "id": "1436a28b-48cb-4de7-aa02-79d26b1b9f49",
        "outputId": "a04c9c4f-7b8c-4355-af7b-2b6533fd5617",
        "colab": {
          "base_uri": "https://localhost:8080/"
        }
      },
      "outputs": [
        {
          "output_type": "stream",
          "name": "stdout",
          "text": [
            "this is my class 2\n"
          ]
        }
      ],
      "source": [
        "obj_class3.test_class2()"
      ]
    },
    {
      "cell_type": "markdown",
      "source": [
        "# 5. Abstraction"
      ],
      "metadata": {
        "id": "lBd4NvnlWrPh"
      }
    },
    {
      "cell_type": "code",
      "execution_count": 90,
      "metadata": {
        "id": "97ea860a-e226-4086-b351-062ebff4cf46"
      },
      "outputs": [],
      "source": [
        "import abc\n",
        "\n",
        "class pwskills :\n",
        "\n",
        "    @abc.abstractmethod\n",
        "    def student_details(self):\n",
        "        pass\n",
        "\n",
        "    @abc.abstractmethod\n",
        "    def student_assignment(self):\n",
        "        pass\n",
        "\n",
        "\n",
        "    @abc.abstractmethod\n",
        "    def student_marks(self):\n",
        "        pass"
      ]
    },
    {
      "cell_type": "code",
      "execution_count": 91,
      "metadata": {
        "id": "8434e817-2918-42a8-b0dc-a19b1f255cae"
      },
      "outputs": [],
      "source": [
        "class data_science(pwskills):\n",
        "\n",
        "    def student_details(self):\n",
        "        return \"it will try to return a details of data science masters \"\n",
        "\n",
        "    def student_assignment(self):\n",
        "        return \"it will return a details of student assignemnt for data science masters \"\n"
      ]
    },
    {
      "cell_type": "code",
      "execution_count": 92,
      "metadata": {
        "id": "e7dc96d4-5549-4c15-ad9f-e59dbb3dd8ea"
      },
      "outputs": [],
      "source": [
        "class web_dev(pwskills):\n",
        "     def student_details(self):\n",
        "            return \"this will retrun a detils of web dev \"\n",
        "\n",
        "\n",
        "     def student_marks(self):\n",
        "             return \"this will return a makrs of web dev class\""
      ]
    },
    {
      "cell_type": "code",
      "execution_count": 93,
      "metadata": {
        "id": "a16095c9-d76a-400b-8907-e35458819a59",
        "outputId": "a7c4134c-4853-4dea-b619-d4f88ac3d0c7",
        "colab": {
          "base_uri": "https://localhost:8080/",
          "height": 35
        }
      },
      "outputs": [
        {
          "output_type": "execute_result",
          "data": {
            "text/plain": [
              "'it will try to return a details of data science masters '"
            ],
            "application/vnd.google.colaboratory.intrinsic+json": {
              "type": "string"
            }
          },
          "metadata": {},
          "execution_count": 93
        }
      ],
      "source": [
        "ds = data_science()\n",
        "ds.student_details()"
      ]
    },
    {
      "cell_type": "code",
      "execution_count": 94,
      "metadata": {
        "id": "c49cbd12-489c-47d7-9372-c33efe66d3e8",
        "outputId": "126e98c2-3e07-4d80-b456-68508a3a4f6f",
        "colab": {
          "base_uri": "https://localhost:8080/",
          "height": 35
        }
      },
      "outputs": [
        {
          "output_type": "execute_result",
          "data": {
            "text/plain": [
              "'this will retrun a detils of web dev '"
            ],
            "application/vnd.google.colaboratory.intrinsic+json": {
              "type": "string"
            }
          },
          "metadata": {},
          "execution_count": 94
        }
      ],
      "source": [
        "wb = web_dev()\n",
        "wb.student_details()"
      ]
    },
    {
      "cell_type": "markdown",
      "source": [
        "# 6. Decorators"
      ],
      "metadata": {
        "id": "g4t1HBnVWusB"
      }
    },
    {
      "cell_type": "code",
      "execution_count": 95,
      "metadata": {
        "id": "b6de53ab-3000-45a3-8078-30ea5780e5fb"
      },
      "outputs": [],
      "source": [
        "def test():\n",
        "    print(\"this is the start of my fun\")\n",
        "    print(4+5)\n",
        "    print(\"this is the end of my fun\")"
      ]
    },
    {
      "cell_type": "code",
      "execution_count": 96,
      "metadata": {
        "id": "eadaf185-d93b-4238-bb1d-7a1152ba34a1",
        "outputId": "cb394a1a-04ed-4b0c-b98f-e8660741bbdb",
        "colab": {
          "base_uri": "https://localhost:8080/"
        }
      },
      "outputs": [
        {
          "output_type": "stream",
          "name": "stdout",
          "text": [
            "this is the start of my fun\n",
            "9\n",
            "this is the end of my fun\n"
          ]
        }
      ],
      "source": [
        "test()"
      ]
    },
    {
      "cell_type": "code",
      "execution_count": 97,
      "metadata": {
        "id": "c9c5ae9b-6d1f-42e3-b9d1-39fd9fc60b96"
      },
      "outputs": [],
      "source": [
        "def deco(func):\n",
        "    def inner_deco():\n",
        "        print(\"this is the start of my fun\")\n",
        "        func()\n",
        "        print(\"this is the end of my fun\")\n",
        "    return inner_deco\n"
      ]
    },
    {
      "cell_type": "code",
      "execution_count": 98,
      "metadata": {
        "id": "b0935111-b840-41a8-8a60-aece43221a7d"
      },
      "outputs": [],
      "source": [
        "@deco\n",
        "def test1():\n",
        "    print(4+5)"
      ]
    },
    {
      "cell_type": "code",
      "execution_count": 99,
      "metadata": {
        "id": "d7c74bf5-a7ad-4cf2-a193-d3ffcd7ec4f7",
        "outputId": "4149aada-2e19-47cd-dab4-d8c7a10835d9",
        "colab": {
          "base_uri": "https://localhost:8080/"
        }
      },
      "outputs": [
        {
          "output_type": "stream",
          "name": "stdout",
          "text": [
            "this is the start of my fun\n",
            "9\n",
            "this is the end of my fun\n"
          ]
        }
      ],
      "source": [
        "test1()"
      ]
    },
    {
      "cell_type": "code",
      "execution_count": 100,
      "metadata": {
        "id": "c440a785-32b3-4dc3-8b61-a9d64511938c"
      },
      "outputs": [],
      "source": [
        "import time\n",
        "def timer_test(func) :\n",
        "    def timer_test_inner():\n",
        "        start = time.time()\n",
        "        func()\n",
        "        end = time.time()\n",
        "        print(end-start)\n",
        "    return timer_test_inner\n"
      ]
    },
    {
      "cell_type": "code",
      "execution_count": 101,
      "metadata": {
        "id": "59dce623-254a-4978-9d4d-5f72a0e0c122"
      },
      "outputs": [],
      "source": [
        "@timer_test\n",
        "def test2():\n",
        "    print(45+67)"
      ]
    },
    {
      "cell_type": "code",
      "execution_count": 102,
      "metadata": {
        "id": "428b0334-50b2-4ca0-8c3d-e4e0ccac535c",
        "outputId": "bfc390f7-469b-4497-acbc-b08c92d7cc64",
        "colab": {
          "base_uri": "https://localhost:8080/"
        }
      },
      "outputs": [
        {
          "output_type": "stream",
          "name": "stdout",
          "text": [
            "112\n",
            "0.00010061264038085938\n"
          ]
        }
      ],
      "source": [
        "test2()"
      ]
    },
    {
      "cell_type": "code",
      "execution_count": 103,
      "metadata": {
        "id": "fc706759-902a-4be1-bdf6-d7b497b05614"
      },
      "outputs": [],
      "source": [
        "@timer_test\n",
        "def test3():\n",
        "    for i in range(100000000):\n",
        "        pass"
      ]
    },
    {
      "cell_type": "code",
      "execution_count": 104,
      "metadata": {
        "id": "87ab4647-1e92-4084-99d2-68ebc30fbeb6",
        "outputId": "9c7341e5-bbd2-4115-89ac-f21c4f7ebcf2",
        "colab": {
          "base_uri": "https://localhost:8080/"
        }
      },
      "outputs": [
        {
          "output_type": "stream",
          "name": "stdout",
          "text": [
            "2.5482702255249023\n"
          ]
        }
      ],
      "source": [
        "test3()"
      ]
    },
    {
      "cell_type": "markdown",
      "source": [
        "# 7. Class Methods"
      ],
      "metadata": {
        "id": "tEIiSxMPW29R"
      }
    },
    {
      "cell_type": "code",
      "execution_count": 105,
      "metadata": {
        "id": "fce910c6-629d-411f-abad-ef2393ac287c"
      },
      "outputs": [],
      "source": [
        "class pwskills:\n",
        "    def __init__(self, name , email):\n",
        "\n",
        "        self.name = name\n",
        "        self.email = email\n",
        "\n",
        "    def student_details(self):\n",
        "        print(self.name , self.email)"
      ]
    },
    {
      "cell_type": "code",
      "execution_count": 106,
      "metadata": {
        "id": "e08e53a3-49cd-4ef4-a9b8-8e2e78f4b184"
      },
      "outputs": [],
      "source": [
        "pw = pwskills(\"sudh\" , \"sudh@gmail.com\")"
      ]
    },
    {
      "cell_type": "code",
      "execution_count": 107,
      "metadata": {
        "id": "1aac620d-600c-44ff-88ad-0309df0f147b",
        "outputId": "13e794ef-7c1b-4ebd-c392-61833d1848ca",
        "colab": {
          "base_uri": "https://localhost:8080/",
          "height": 35
        }
      },
      "outputs": [
        {
          "output_type": "execute_result",
          "data": {
            "text/plain": [
              "'sudh'"
            ],
            "application/vnd.google.colaboratory.intrinsic+json": {
              "type": "string"
            }
          },
          "metadata": {},
          "execution_count": 107
        }
      ],
      "source": [
        "pw.name"
      ]
    },
    {
      "cell_type": "code",
      "execution_count": 108,
      "metadata": {
        "id": "529b9e7d-1a97-430f-944f-2ee697d5d0c5",
        "outputId": "58278ba2-2543-4f2a-abc4-54961f38f17e",
        "colab": {
          "base_uri": "https://localhost:8080/",
          "height": 35
        }
      },
      "outputs": [
        {
          "output_type": "execute_result",
          "data": {
            "text/plain": [
              "'sudh@gmail.com'"
            ],
            "application/vnd.google.colaboratory.intrinsic+json": {
              "type": "string"
            }
          },
          "metadata": {},
          "execution_count": 108
        }
      ],
      "source": [
        "pw.email"
      ]
    },
    {
      "cell_type": "code",
      "execution_count": 109,
      "metadata": {
        "id": "6b5ae164-3611-44b4-94de-d8c7c9fb716e",
        "outputId": "ff0bcd6b-4a69-4159-a814-1b4595689397",
        "colab": {
          "base_uri": "https://localhost:8080/"
        }
      },
      "outputs": [
        {
          "output_type": "stream",
          "name": "stdout",
          "text": [
            "sudh sudh@gmail.com\n"
          ]
        }
      ],
      "source": [
        "pw.student_details()"
      ]
    },
    {
      "cell_type": "code",
      "execution_count": 110,
      "metadata": {
        "id": "84d77df2-77d5-4764-9f64-4592fd238465"
      },
      "outputs": [],
      "source": [
        "class pwskills1:\n",
        "    def __init__(self, name , email):\n",
        "\n",
        "        self.name = name\n",
        "        self.email = email\n",
        "\n",
        "    @classmethod\n",
        "    def details(cls , name1 , email1):\n",
        "        return cls(name1 , email1)\n",
        "\n",
        "    def student_details(self):\n",
        "        print(self.name , self.email)"
      ]
    },
    {
      "cell_type": "code",
      "execution_count": 111,
      "metadata": {
        "id": "e2be452a-5468-46f4-b52d-f1d2582f0848"
      },
      "outputs": [],
      "source": [
        "pw1 = pwskills1.details(\"mohan\" , \"mohan@gamil.com\")"
      ]
    },
    {
      "cell_type": "code",
      "execution_count": 112,
      "metadata": {
        "id": "7a0d2dfb-ea71-4d23-a91e-ef83aa258b32",
        "outputId": "f81013b1-2696-4a2a-b1b1-56911bab4f25",
        "colab": {
          "base_uri": "https://localhost:8080/",
          "height": 35
        }
      },
      "outputs": [
        {
          "output_type": "execute_result",
          "data": {
            "text/plain": [
              "'mohan'"
            ],
            "application/vnd.google.colaboratory.intrinsic+json": {
              "type": "string"
            }
          },
          "metadata": {},
          "execution_count": 112
        }
      ],
      "source": [
        "pw1.name"
      ]
    },
    {
      "cell_type": "code",
      "execution_count": 113,
      "metadata": {
        "id": "43dc7559-f61f-4b25-a814-89d284a386af",
        "outputId": "60ce027b-4bac-4170-8ba1-e4c9ac530013",
        "colab": {
          "base_uri": "https://localhost:8080/",
          "height": 35
        }
      },
      "outputs": [
        {
          "output_type": "execute_result",
          "data": {
            "text/plain": [
              "'mohan@gamil.com'"
            ],
            "application/vnd.google.colaboratory.intrinsic+json": {
              "type": "string"
            }
          },
          "metadata": {},
          "execution_count": 113
        }
      ],
      "source": [
        "pw1.email"
      ]
    },
    {
      "cell_type": "code",
      "execution_count": 114,
      "metadata": {
        "id": "a68de874-8a18-4974-a888-d8d5cf059ca7",
        "outputId": "41c03f59-72a4-4d7b-c6e4-f2d1abc03517",
        "colab": {
          "base_uri": "https://localhost:8080/"
        }
      },
      "outputs": [
        {
          "output_type": "stream",
          "name": "stdout",
          "text": [
            "mohan mohan@gamil.com\n"
          ]
        }
      ],
      "source": [
        "pw1.student_details()"
      ]
    },
    {
      "cell_type": "code",
      "execution_count": 115,
      "metadata": {
        "id": "feace3fc-6cc7-4745-9a92-d500bd64ed3a"
      },
      "outputs": [],
      "source": [
        "class pwskills2:\n",
        "\n",
        "    mobile_number = 9134534535\n",
        "\n",
        "    def __init__(self, name , email):\n",
        "\n",
        "        self.name = name\n",
        "        self.email = email\n",
        "\n",
        "    @classmethod\n",
        "    def change_number(cls, mobile):\n",
        "        pwskills2.mobile_number = mobile\n",
        "\n",
        "    @classmethod\n",
        "    def details(cls , name1 , email1):\n",
        "        return cls(name1 , email1)\n",
        "\n",
        "    def student_details(self):\n",
        "        print(self.name , self.email,pwskills2.mobile_number)"
      ]
    },
    {
      "cell_type": "code",
      "execution_count": 116,
      "metadata": {
        "id": "f04f3140-ccc3-4eb6-8de9-63a690425086"
      },
      "outputs": [],
      "source": [
        "pw2_obj = pwskills2(\"sohil\" , \"sohil@gmail.com\")"
      ]
    },
    {
      "cell_type": "code",
      "execution_count": 117,
      "metadata": {
        "id": "082a3976-f45c-4af5-8708-29a0e52d9cd4",
        "outputId": "85d6a7ca-4e44-4083-d155-217629e2c0a0",
        "colab": {
          "base_uri": "https://localhost:8080/"
        }
      },
      "outputs": [
        {
          "output_type": "execute_result",
          "data": {
            "text/plain": [
              "<__main__.pwskills2 at 0x7becb0409570>"
            ]
          },
          "metadata": {},
          "execution_count": 117
        }
      ],
      "source": [
        "pw2_obj.details(\"sudh\" , \"sudh@gmail.com\")"
      ]
    },
    {
      "cell_type": "code",
      "execution_count": 118,
      "metadata": {
        "id": "26ac28f2-8341-411c-9a2f-71791911511d",
        "outputId": "27dedb95-4564-4a75-b17d-09a637fe0c2b",
        "colab": {
          "base_uri": "https://localhost:8080/",
          "height": 35
        }
      },
      "outputs": [
        {
          "output_type": "execute_result",
          "data": {
            "text/plain": [
              "'sohil'"
            ],
            "application/vnd.google.colaboratory.intrinsic+json": {
              "type": "string"
            }
          },
          "metadata": {},
          "execution_count": 118
        }
      ],
      "source": [
        "pw2_obj.name"
      ]
    },
    {
      "cell_type": "code",
      "execution_count": 119,
      "metadata": {
        "id": "6910edfa-3d5c-4c13-bbff-22f3e142a87c"
      },
      "outputs": [],
      "source": [
        "pw2_obj.change_number(534553534)"
      ]
    },
    {
      "cell_type": "code",
      "execution_count": 120,
      "metadata": {
        "id": "c6b8dab3-b0e2-4dec-9a21-9d01432bb847",
        "outputId": "5ae1e6a9-9c23-4787-9c97-4145303ff4e8",
        "colab": {
          "base_uri": "https://localhost:8080/"
        }
      },
      "outputs": [
        {
          "output_type": "execute_result",
          "data": {
            "text/plain": [
              "534553534"
            ]
          },
          "metadata": {},
          "execution_count": 120
        }
      ],
      "source": [
        "pw2_obj.mobile_number"
      ]
    },
    {
      "cell_type": "code",
      "execution_count": 121,
      "metadata": {
        "id": "83fc972b-21f4-4295-9559-679c3099e459",
        "outputId": "71cac003-58a7-45c9-faa4-da04b290a787",
        "colab": {
          "base_uri": "https://localhost:8080/"
        }
      },
      "outputs": [
        {
          "output_type": "execute_result",
          "data": {
            "text/plain": [
              "534553534"
            ]
          },
          "metadata": {},
          "execution_count": 121
        }
      ],
      "source": [
        "pwskills2.mobile_number"
      ]
    },
    {
      "cell_type": "code",
      "execution_count": 122,
      "metadata": {
        "id": "be33a901-650b-486b-b413-2bc1136af73d"
      },
      "outputs": [],
      "source": [
        "pwskills2.change_number(9233345344)"
      ]
    },
    {
      "cell_type": "code",
      "execution_count": 123,
      "metadata": {
        "id": "94b99907-e2b5-4a1c-8e40-6d9ffe10ed28",
        "outputId": "edba1e8b-4f11-45e3-833e-805b8b995912",
        "colab": {
          "base_uri": "https://localhost:8080/"
        }
      },
      "outputs": [
        {
          "output_type": "execute_result",
          "data": {
            "text/plain": [
              "9233345344"
            ]
          },
          "metadata": {},
          "execution_count": 123
        }
      ],
      "source": [
        "pwskills2.mobile_number"
      ]
    },
    {
      "cell_type": "code",
      "execution_count": 124,
      "metadata": {
        "id": "ff4a5649-92a6-4963-b6d5-8a5b6e23af0a",
        "outputId": "a1d30c0a-61f8-4913-b8c9-c23cfffa392a",
        "colab": {
          "base_uri": "https://localhost:8080/"
        }
      },
      "outputs": [
        {
          "output_type": "execute_result",
          "data": {
            "text/plain": [
              "9233345344"
            ]
          },
          "metadata": {},
          "execution_count": 124
        }
      ],
      "source": [
        "pwskills2.mobile_number"
      ]
    },
    {
      "cell_type": "code",
      "execution_count": 125,
      "metadata": {
        "id": "0714817d-c76c-49df-9f68-2e4bc5f47024"
      },
      "outputs": [],
      "source": [
        "pw2 = pwskills2.details(\"sohan\" , \"sohan@gmail.com\")"
      ]
    },
    {
      "cell_type": "code",
      "execution_count": 126,
      "metadata": {
        "id": "f440a2ab-3021-4703-a5b7-3e0e9a366522",
        "outputId": "d874fc49-0b29-410f-ccf3-148a2e993e7b",
        "colab": {
          "base_uri": "https://localhost:8080/"
        }
      },
      "outputs": [
        {
          "output_type": "stream",
          "name": "stdout",
          "text": [
            "sohan sohan@gmail.com 9233345344\n"
          ]
        }
      ],
      "source": [
        "pw2.student_details()"
      ]
    },
    {
      "cell_type": "code",
      "execution_count": 127,
      "metadata": {
        "id": "61eb5861-41e5-437a-9147-99d2ae8a4de7"
      },
      "outputs": [],
      "source": [
        "pw2_obj = pwskills2(\"rohan\" , \"rohan@gmail.com\")"
      ]
    },
    {
      "cell_type": "code",
      "execution_count": 128,
      "metadata": {
        "id": "ca77130f-1dea-40d2-9e38-f4dc30054e56",
        "outputId": "fd17b61a-877b-40a3-a90a-eab0e2a6c443",
        "colab": {
          "base_uri": "https://localhost:8080/"
        }
      },
      "outputs": [
        {
          "output_type": "stream",
          "name": "stdout",
          "text": [
            "rohan rohan@gmail.com 9233345344\n"
          ]
        }
      ],
      "source": [
        "pw2_obj.student_details()"
      ]
    },
    {
      "cell_type": "code",
      "execution_count": 129,
      "metadata": {
        "id": "7602f385-122e-4a55-a659-98b2d2905893"
      },
      "outputs": [],
      "source": [
        "class pwskills3:\n",
        "\n",
        "    mobile_number = 9134534535\n",
        "\n",
        "    def __init__(self, name , email):\n",
        "\n",
        "        self.name = name\n",
        "        self.email = email\n",
        "\n",
        "    @classmethod\n",
        "    def change_number(cls, mobile):\n",
        "        pwskills2.mobile_number = mobile\n",
        "\n",
        "    @classmethod\n",
        "    def details(cls , name1 , email1):\n",
        "        return cls(name1 , email1)\n",
        "\n",
        "    def student_details(self):\n",
        "        print(self.name , self.email,pwskills2.mobile_number)"
      ]
    },
    {
      "cell_type": "code",
      "execution_count": 130,
      "metadata": {
        "id": "2b2bf255-aa6c-4628-9ad3-3db7fc6eddd2"
      },
      "outputs": [],
      "source": [
        "def course_details(cls ,course_name ):\n",
        "    print(\"course details\" , course_name)"
      ]
    },
    {
      "cell_type": "code",
      "execution_count": 131,
      "metadata": {
        "id": "d31b7e72-b966-42fb-891f-34e8092485c5"
      },
      "outputs": [],
      "source": [
        "pwskills3.course_details = classmethod(course_details)"
      ]
    },
    {
      "cell_type": "code",
      "execution_count": 132,
      "metadata": {
        "id": "1756cee2-89b1-4e5e-afa0-c760126d5e88",
        "outputId": "82d891d3-76b3-4b08-94f5-ad93d6b6bf06",
        "colab": {
          "base_uri": "https://localhost:8080/"
        }
      },
      "outputs": [
        {
          "output_type": "stream",
          "name": "stdout",
          "text": [
            "course details data science masters\n"
          ]
        }
      ],
      "source": [
        "pwskills3.course_details(\"data science masters\")"
      ]
    },
    {
      "cell_type": "code",
      "execution_count": 133,
      "metadata": {
        "id": "f7923667-ab35-4a46-8be1-474a1745f180"
      },
      "outputs": [],
      "source": [
        "pw3 = pwskills3(\"sudh\" , \"sudh@gmail.com\")"
      ]
    },
    {
      "cell_type": "code",
      "execution_count": 134,
      "metadata": {
        "id": "a9f7ee83-d2ca-429d-8d6a-8425ec565b50",
        "outputId": "661cdc4f-303b-4d49-b3e7-42ff746f8eca",
        "colab": {
          "base_uri": "https://localhost:8080/"
        }
      },
      "outputs": [
        {
          "output_type": "stream",
          "name": "stdout",
          "text": [
            "course details web dev\n"
          ]
        }
      ],
      "source": [
        "pw3.course_details(\"web dev\")"
      ]
    },
    {
      "cell_type": "code",
      "execution_count": 135,
      "metadata": {
        "id": "c53d7e2d-39fe-438c-8706-4e44c6489c6a"
      },
      "outputs": [],
      "source": [
        "class pwskills4:\n",
        "\n",
        "    mobile_number = 9134534535\n",
        "\n",
        "    def __init__(self, name , email):\n",
        "\n",
        "        self.name = name\n",
        "        self.email = email\n",
        "\n",
        "    @classmethod\n",
        "    def change_number(cls, mobile):\n",
        "        pwskills2.mobile_number = mobile\n",
        "\n",
        "    @classmethod\n",
        "    def details(cls , name1 , email1):\n",
        "        return cls(name1 , email1)\n",
        "\n",
        "    def student_details(self):\n",
        "        print(self.name , self.email,pwskills2.mobile_number)"
      ]
    },
    {
      "cell_type": "code",
      "execution_count": 136,
      "metadata": {
        "id": "e3928652-ca7c-4acd-96c5-4bf926aa5ced"
      },
      "outputs": [],
      "source": [
        "del pwskills4.change_number"
      ]
    },
    {
      "cell_type": "code",
      "execution_count": 137,
      "metadata": {
        "id": "58fedaf3-b311-45f2-a1d6-8b038fe195ca",
        "outputId": "dd261b2f-103f-4e38-b715-0c509eadb1c7",
        "colab": {
          "base_uri": "https://localhost:8080/",
          "height": 141
        }
      },
      "outputs": [
        {
          "output_type": "error",
          "ename": "AttributeError",
          "evalue": "type object 'pwskills4' has no attribute 'change_number'",
          "traceback": [
            "\u001b[0;31m---------------------------------------------------------------------------\u001b[0m",
            "\u001b[0;31mAttributeError\u001b[0m                            Traceback (most recent call last)",
            "\u001b[0;32m<ipython-input-137-f8c4a998565b>\u001b[0m in \u001b[0;36m<cell line: 1>\u001b[0;34m()\u001b[0m\n\u001b[0;32m----> 1\u001b[0;31m \u001b[0mpwskills4\u001b[0m\u001b[0;34m.\u001b[0m\u001b[0mchange_number\u001b[0m\u001b[0;34m(\u001b[0m\u001b[0;36m2432535345\u001b[0m\u001b[0;34m)\u001b[0m\u001b[0;34m\u001b[0m\u001b[0;34m\u001b[0m\u001b[0m\n\u001b[0m",
            "\u001b[0;31mAttributeError\u001b[0m: type object 'pwskills4' has no attribute 'change_number'"
          ]
        }
      ],
      "source": [
        "pwskills4.change_number(2432535345)"
      ]
    },
    {
      "cell_type": "code",
      "execution_count": 138,
      "metadata": {
        "id": "5a2401dd-a7cd-411d-bcd3-6953a3d4cd3c"
      },
      "outputs": [],
      "source": [
        "delattr(pwskills4 , \"details\")"
      ]
    },
    {
      "cell_type": "code",
      "execution_count": 139,
      "metadata": {
        "id": "b34c6800-ed8c-4b4d-8f6f-91ed21c2c327",
        "outputId": "7516f4e0-3a78-4c1c-e4a1-9533d3a1a3ec",
        "colab": {
          "base_uri": "https://localhost:8080/"
        }
      },
      "outputs": [
        {
          "output_type": "execute_result",
          "data": {
            "text/plain": [
              "9134534535"
            ]
          },
          "metadata": {},
          "execution_count": 139
        }
      ],
      "source": [
        "pwskills4.mobile_number"
      ]
    },
    {
      "cell_type": "code",
      "execution_count": 140,
      "metadata": {
        "id": "09ec00ae-4e1a-4ff9-91af-f192bcd10145"
      },
      "outputs": [],
      "source": [
        "delattr(pwskills4 , \"mobile_number\")"
      ]
    },
    {
      "cell_type": "code",
      "execution_count": 141,
      "metadata": {
        "id": "5a561241-7631-4e1f-83af-78f766411037",
        "outputId": "b8548484-5a79-4fb6-82c0-1fc0843e9484",
        "colab": {
          "base_uri": "https://localhost:8080/",
          "height": 141
        }
      },
      "outputs": [
        {
          "output_type": "error",
          "ename": "AttributeError",
          "evalue": "type object 'pwskills4' has no attribute 'mobile_number'",
          "traceback": [
            "\u001b[0;31m---------------------------------------------------------------------------\u001b[0m",
            "\u001b[0;31mAttributeError\u001b[0m                            Traceback (most recent call last)",
            "\u001b[0;32m<ipython-input-141-9e10270d29eb>\u001b[0m in \u001b[0;36m<cell line: 1>\u001b[0;34m()\u001b[0m\n\u001b[0;32m----> 1\u001b[0;31m \u001b[0mpwskills4\u001b[0m\u001b[0;34m.\u001b[0m\u001b[0mmobile_number\u001b[0m\u001b[0;34m\u001b[0m\u001b[0;34m\u001b[0m\u001b[0m\n\u001b[0m",
            "\u001b[0;31mAttributeError\u001b[0m: type object 'pwskills4' has no attribute 'mobile_number'"
          ]
        }
      ],
      "source": [
        "pwskills4.mobile_number"
      ]
    },
    {
      "cell_type": "code",
      "execution_count": 142,
      "metadata": {
        "id": "314d4855-1ba5-43c2-bf21-d9d61353128d"
      },
      "outputs": [],
      "source": [
        "delattr(pwskills4,\"student_details\")"
      ]
    },
    {
      "cell_type": "code",
      "execution_count": 143,
      "metadata": {
        "id": "a88256f5-e304-44dd-965b-3a36179a04bc",
        "outputId": "f0c2256e-fde3-41cc-e6e9-60b0b47d44ef",
        "colab": {
          "base_uri": "https://localhost:8080/",
          "height": 104
        }
      },
      "outputs": [
        {
          "output_type": "execute_result",
          "data": {
            "text/plain": [
              "__main__.pwskills4"
            ],
            "text/html": [
              "<div style=\"max-width:800px; border: 1px solid var(--colab-border-color);\"><style>\n",
              "      pre.function-repr-contents {\n",
              "        overflow-x: auto;\n",
              "        padding: 8px 12px;\n",
              "        max-height: 500px;\n",
              "      }\n",
              "\n",
              "      pre.function-repr-contents.function-repr-contents-collapsed {\n",
              "        cursor: pointer;\n",
              "        max-height: 100px;\n",
              "      }\n",
              "    </style>\n",
              "    <pre style=\"white-space: initial; background:\n",
              "         var(--colab-secondary-surface-color); padding: 8px 12px;\n",
              "         border-bottom: 1px solid var(--colab-border-color);\"><b>pwskills4</b><br/>def __init__(name, email)</pre><pre class=\"function-repr-contents function-repr-contents-collapsed\" style=\"\"><a class=\"filepath\" style=\"display:none\" href=\"#\"></a>&lt;no docstring&gt;</pre></div>"
            ]
          },
          "metadata": {},
          "execution_count": 143
        }
      ],
      "source": [
        "pwskills4"
      ]
    },
    {
      "cell_type": "markdown",
      "source": [
        "# 8. Static Method"
      ],
      "metadata": {
        "id": "5tdOGlMeW6WC"
      }
    },
    {
      "cell_type": "code",
      "execution_count": 144,
      "metadata": {
        "id": "73250e39-b555-4022-a1d3-5da9ca7d53bb"
      },
      "outputs": [],
      "source": [
        "class pwskills:\n",
        "    def student_details(self , name , mail_id , number) :\n",
        "        print(name , mail_id, number)"
      ]
    },
    {
      "cell_type": "code",
      "execution_count": 145,
      "metadata": {
        "id": "bf403f35-2dab-4e1b-863c-42488c20d405"
      },
      "outputs": [],
      "source": [
        "pw = pwskills()"
      ]
    },
    {
      "cell_type": "code",
      "execution_count": 146,
      "metadata": {
        "id": "bd805a04-6bfc-4159-8e66-94774d72f46b",
        "outputId": "4ce01e6e-ebb4-4f38-c49c-653f26872c20",
        "colab": {
          "base_uri": "https://localhost:8080/"
        }
      },
      "outputs": [
        {
          "output_type": "stream",
          "name": "stdout",
          "text": [
            "sudh sudh@gmail.com 91345353\n"
          ]
        }
      ],
      "source": [
        "pw.student_details(\"sudh\" , \"sudh@gmail.com\" , 91345353)"
      ]
    },
    {
      "cell_type": "code",
      "execution_count": 147,
      "metadata": {
        "id": "7d866032-5c0e-4db2-9d58-1855164e5834"
      },
      "outputs": [],
      "source": [
        "class pwskills1:\n",
        "    def student_details(self , name , mail_id , number) :\n",
        "        print(name , mail_id, number)\n",
        "\n",
        "    @staticmethod\n",
        "    def mentor_class(list_mentor) :\n",
        "        print(list_mentor)\n",
        "\n",
        "    def mentor(self , mentor_list) :\n",
        "        print(mentor_list)"
      ]
    },
    {
      "cell_type": "code",
      "execution_count": 148,
      "metadata": {
        "id": "afc43311-50a8-4a95-8e66-22828d8dd3eb"
      },
      "outputs": [],
      "source": [
        "pw1 = pwskills1()"
      ]
    },
    {
      "cell_type": "code",
      "execution_count": 149,
      "metadata": {
        "id": "103dac56-44e3-4ced-867d-46f4f17adac4",
        "outputId": "830a0a86-814a-4fe6-915c-a85637c604bb",
        "colab": {
          "base_uri": "https://localhost:8080/"
        }
      },
      "outputs": [
        {
          "output_type": "stream",
          "name": "stdout",
          "text": [
            "['krish', 'sudh']\n"
          ]
        }
      ],
      "source": [
        "pw1.mentor([\"krish\" , \"sudh\"])"
      ]
    },
    {
      "cell_type": "code",
      "execution_count": 150,
      "metadata": {
        "id": "1f2085b9-0dba-40a0-bf18-9621289ffca0",
        "outputId": "dd30e6e5-38f3-4aa6-e83b-921411988307",
        "colab": {
          "base_uri": "https://localhost:8080/"
        }
      },
      "outputs": [
        {
          "output_type": "stream",
          "name": "stdout",
          "text": [
            "['sudh', 'naik']\n"
          ]
        }
      ],
      "source": [
        "pw1.mentor_class([\"sudh\" , \"naik\"])"
      ]
    },
    {
      "cell_type": "code",
      "execution_count": 151,
      "metadata": {
        "id": "10d5501a-4460-4f4b-b391-f2fb0dfa032b",
        "outputId": "51b6c1b1-d6c6-4792-89cf-de65cd7e0606",
        "colab": {
          "base_uri": "https://localhost:8080/"
        }
      },
      "outputs": [
        {
          "output_type": "stream",
          "name": "stdout",
          "text": [
            "['sudh', 'kris']\n"
          ]
        }
      ],
      "source": [
        "pwskills1.mentor_class([\"sudh\" , \"kris\"])"
      ]
    },
    {
      "cell_type": "code",
      "execution_count": 152,
      "metadata": {
        "id": "444133f4-1160-45e5-81d0-13fea6b91279"
      },
      "outputs": [],
      "source": [
        "class pwskills1:\n",
        "    def student_details(self , name , mail_id , number) :\n",
        "        print(name , mail_id, number)\n",
        "\n",
        "    @staticmethod\n",
        "    def mentor_mail_id(mail_id):\n",
        "        print(mail_id)\n",
        "\n",
        "    @staticmethod\n",
        "    def mentor_class(list_mentor) :\n",
        "        print(list_mentor)\n",
        "        pwskills1.mentor_mail_id([\"krish@gmail.com\" , \"sudh@gmail.com\"])\n",
        "\n",
        "    @classmethod\n",
        "    def class_name(cls,class_name):\n",
        "        cls.mentor_class([\"sudh\" , \"krish\"])\n",
        "\n",
        "    def mentor(self , mentor_list) :\n",
        "        print(mentor_list)\n",
        "        self.mentor_class([\"krish\" , \"sudh\"])"
      ]
    },
    {
      "cell_type": "code",
      "execution_count": 153,
      "metadata": {
        "id": "de2ef83d-6a58-42dd-8692-63634e377e37"
      },
      "outputs": [],
      "source": [
        "pw1 = pwskills1()"
      ]
    },
    {
      "cell_type": "code",
      "execution_count": 154,
      "metadata": {
        "id": "2f84a6fa-726d-4395-9c1d-d743e6cb7274",
        "outputId": "2ef1ec87-5bf4-4a02-a931-f96161f99474",
        "colab": {
          "base_uri": "https://localhost:8080/"
        }
      },
      "outputs": [
        {
          "output_type": "stream",
          "name": "stdout",
          "text": [
            "mohan mohan@gmail.com 9675657657\n"
          ]
        }
      ],
      "source": [
        "pw1.student_details(\"mohan\" , \"mohan@gmail.com\" , 9675657657)"
      ]
    },
    {
      "cell_type": "code",
      "execution_count": 155,
      "metadata": {
        "id": "e21b63cc-fbd1-4147-b184-347bc17a97e9",
        "outputId": "941db5c1-f8e0-45e7-b7b7-8e591ffe9e87",
        "colab": {
          "base_uri": "https://localhost:8080/"
        }
      },
      "outputs": [
        {
          "output_type": "stream",
          "name": "stdout",
          "text": [
            "['krish@gmail.com', 'sudh@gmail.com']\n"
          ]
        }
      ],
      "source": [
        "pw1.mentor_mail_id([\"krish@gmail.com\" , \"sudh@gmail.com\"])"
      ]
    },
    {
      "cell_type": "code",
      "execution_count": 156,
      "metadata": {
        "id": "b964530b-d86e-4dd5-a239-ac2dcd58d750",
        "outputId": "8981ea3b-1885-4ba7-c066-008a15b17e16",
        "colab": {
          "base_uri": "https://localhost:8080/"
        }
      },
      "outputs": [
        {
          "output_type": "stream",
          "name": "stdout",
          "text": [
            "['sudh', 'krish']\n",
            "['krish@gmail.com', 'sudh@gmail.com']\n"
          ]
        }
      ],
      "source": [
        "pw1.class_name(\"data science masters\")"
      ]
    },
    {
      "cell_type": "code",
      "execution_count": 157,
      "metadata": {
        "id": "d2edacf3-91cb-44de-a8b6-b802e6e1442b",
        "outputId": "29f735d9-a81d-4232-be9b-704d28f64218",
        "colab": {
          "base_uri": "https://localhost:8080/"
        }
      },
      "outputs": [
        {
          "output_type": "stream",
          "name": "stdout",
          "text": [
            "['krish@gmail.com', 'sudh@gmail.com']\n"
          ]
        }
      ],
      "source": [
        "pwskills1.mentor_mail_id([\"krish@gmail.com\" , \"sudh@gmail.com\"])"
      ]
    },
    {
      "cell_type": "markdown",
      "source": [
        "#9. Special (Magic/Dunder) Methods"
      ],
      "metadata": {
        "id": "UgxZ_zvaXA7s"
      }
    },
    {
      "cell_type": "code",
      "source": [
        "dir(int)"
      ],
      "metadata": {
        "colab": {
          "base_uri": "https://localhost:8080/"
        },
        "id": "1gGm2XlWhgnF",
        "outputId": "90c36586-2bfd-4e72-fb4f-35816726b17a"
      },
      "execution_count": 158,
      "outputs": [
        {
          "output_type": "execute_result",
          "data": {
            "text/plain": [
              "['__abs__',\n",
              " '__add__',\n",
              " '__and__',\n",
              " '__bool__',\n",
              " '__ceil__',\n",
              " '__class__',\n",
              " '__delattr__',\n",
              " '__dir__',\n",
              " '__divmod__',\n",
              " '__doc__',\n",
              " '__eq__',\n",
              " '__float__',\n",
              " '__floor__',\n",
              " '__floordiv__',\n",
              " '__format__',\n",
              " '__ge__',\n",
              " '__getattribute__',\n",
              " '__getnewargs__',\n",
              " '__gt__',\n",
              " '__hash__',\n",
              " '__index__',\n",
              " '__init__',\n",
              " '__init_subclass__',\n",
              " '__int__',\n",
              " '__invert__',\n",
              " '__le__',\n",
              " '__lshift__',\n",
              " '__lt__',\n",
              " '__mod__',\n",
              " '__mul__',\n",
              " '__ne__',\n",
              " '__neg__',\n",
              " '__new__',\n",
              " '__or__',\n",
              " '__pos__',\n",
              " '__pow__',\n",
              " '__radd__',\n",
              " '__rand__',\n",
              " '__rdivmod__',\n",
              " '__reduce__',\n",
              " '__reduce_ex__',\n",
              " '__repr__',\n",
              " '__rfloordiv__',\n",
              " '__rlshift__',\n",
              " '__rmod__',\n",
              " '__rmul__',\n",
              " '__ror__',\n",
              " '__round__',\n",
              " '__rpow__',\n",
              " '__rrshift__',\n",
              " '__rshift__',\n",
              " '__rsub__',\n",
              " '__rtruediv__',\n",
              " '__rxor__',\n",
              " '__setattr__',\n",
              " '__sizeof__',\n",
              " '__str__',\n",
              " '__sub__',\n",
              " '__subclasshook__',\n",
              " '__truediv__',\n",
              " '__trunc__',\n",
              " '__xor__',\n",
              " 'as_integer_ratio',\n",
              " 'bit_count',\n",
              " 'bit_length',\n",
              " 'conjugate',\n",
              " 'denominator',\n",
              " 'from_bytes',\n",
              " 'imag',\n",
              " 'numerator',\n",
              " 'real',\n",
              " 'to_bytes']"
            ]
          },
          "metadata": {},
          "execution_count": 158
        }
      ]
    },
    {
      "cell_type": "code",
      "source": [
        "a = 10"
      ],
      "metadata": {
        "id": "t5nqvJBMhhLE"
      },
      "execution_count": 159,
      "outputs": []
    },
    {
      "cell_type": "code",
      "execution_count": 161,
      "metadata": {
        "id": "74575819",
        "outputId": "0aa7f6c3-ddfd-4961-9fbc-f65ba5ddd0bd",
        "colab": {
          "base_uri": "https://localhost:8080/"
        }
      },
      "outputs": [
        {
          "output_type": "execute_result",
          "data": {
            "text/plain": [
              "16"
            ]
          },
          "metadata": {},
          "execution_count": 161
        }
      ],
      "source": [
        "a+6"
      ]
    },
    {
      "cell_type": "code",
      "execution_count": 162,
      "metadata": {
        "id": "9e488dcd",
        "outputId": "d234455f-085c-4ac8-b82a-5f9f40685252",
        "colab": {
          "base_uri": "https://localhost:8080/"
        }
      },
      "outputs": [
        {
          "output_type": "execute_result",
          "data": {
            "text/plain": [
              "16"
            ]
          },
          "metadata": {},
          "execution_count": 162
        }
      ],
      "source": [
        "a.__add__(6)"
      ]
    },
    {
      "cell_type": "code",
      "execution_count": 163,
      "metadata": {
        "id": "8cf231a2",
        "outputId": "22383465-b56f-4023-ab2b-8274d567925a",
        "colab": {
          "base_uri": "https://localhost:8080/"
        }
      },
      "outputs": [
        {
          "output_type": "execute_result",
          "data": {
            "text/plain": [
              "['__add__',\n",
              " '__class__',\n",
              " '__contains__',\n",
              " '__delattr__',\n",
              " '__dir__',\n",
              " '__doc__',\n",
              " '__eq__',\n",
              " '__format__',\n",
              " '__ge__',\n",
              " '__getattribute__',\n",
              " '__getitem__',\n",
              " '__getnewargs__',\n",
              " '__gt__',\n",
              " '__hash__',\n",
              " '__init__',\n",
              " '__init_subclass__',\n",
              " '__iter__',\n",
              " '__le__',\n",
              " '__len__',\n",
              " '__lt__',\n",
              " '__mod__',\n",
              " '__mul__',\n",
              " '__ne__',\n",
              " '__new__',\n",
              " '__reduce__',\n",
              " '__reduce_ex__',\n",
              " '__repr__',\n",
              " '__rmod__',\n",
              " '__rmul__',\n",
              " '__setattr__',\n",
              " '__sizeof__',\n",
              " '__str__',\n",
              " '__subclasshook__',\n",
              " 'capitalize',\n",
              " 'casefold',\n",
              " 'center',\n",
              " 'count',\n",
              " 'encode',\n",
              " 'endswith',\n",
              " 'expandtabs',\n",
              " 'find',\n",
              " 'format',\n",
              " 'format_map',\n",
              " 'index',\n",
              " 'isalnum',\n",
              " 'isalpha',\n",
              " 'isascii',\n",
              " 'isdecimal',\n",
              " 'isdigit',\n",
              " 'isidentifier',\n",
              " 'islower',\n",
              " 'isnumeric',\n",
              " 'isprintable',\n",
              " 'isspace',\n",
              " 'istitle',\n",
              " 'isupper',\n",
              " 'join',\n",
              " 'ljust',\n",
              " 'lower',\n",
              " 'lstrip',\n",
              " 'maketrans',\n",
              " 'partition',\n",
              " 'removeprefix',\n",
              " 'removesuffix',\n",
              " 'replace',\n",
              " 'rfind',\n",
              " 'rindex',\n",
              " 'rjust',\n",
              " 'rpartition',\n",
              " 'rsplit',\n",
              " 'rstrip',\n",
              " 'split',\n",
              " 'splitlines',\n",
              " 'startswith',\n",
              " 'strip',\n",
              " 'swapcase',\n",
              " 'title',\n",
              " 'translate',\n",
              " 'upper',\n",
              " 'zfill']"
            ]
          },
          "metadata": {},
          "execution_count": 163
        }
      ],
      "source": [
        "dir(str)"
      ]
    },
    {
      "cell_type": "code",
      "execution_count": 164,
      "metadata": {
        "id": "19147132"
      },
      "outputs": [],
      "source": [
        "class pwskills :\n",
        "\n",
        "    def __new__(cls) :\n",
        "        print(\"this is my new\")\n",
        "\n",
        "\n",
        "    def __init__(self):\n",
        "        print(\"this is my init\")\n"
      ]
    },
    {
      "cell_type": "code",
      "execution_count": 165,
      "metadata": {
        "id": "85603015",
        "outputId": "71ed4168-b3e9-447c-e69c-e3a4dbc66b9c",
        "colab": {
          "base_uri": "https://localhost:8080/"
        }
      },
      "outputs": [
        {
          "output_type": "stream",
          "name": "stdout",
          "text": [
            "this is my new\n"
          ]
        }
      ],
      "source": [
        "pw = pwskills()"
      ]
    },
    {
      "cell_type": "code",
      "execution_count": 166,
      "metadata": {
        "id": "b45d4102"
      },
      "outputs": [],
      "source": [
        "class pwskills1 :\n",
        "\n",
        "\n",
        "    def __init__(self):\n",
        "\n",
        "\n",
        "        self.mobile_number = 934223424\n",
        "\n",
        "    def __str__(self) :\n",
        "        return \"this is a magic method which will print something for object \""
      ]
    },
    {
      "cell_type": "code",
      "execution_count": 167,
      "metadata": {
        "id": "27b4dc31"
      },
      "outputs": [],
      "source": [
        "pw1  = pwskills1()"
      ]
    },
    {
      "cell_type": "code",
      "execution_count": 168,
      "metadata": {
        "id": "903d2707",
        "outputId": "38dfb2dd-ec37-45fa-ef4a-68fb5ed1b83b",
        "colab": {
          "base_uri": "https://localhost:8080/"
        }
      },
      "outputs": [
        {
          "output_type": "execute_result",
          "data": {
            "text/plain": [
              "<__main__.pwskills1 at 0x7bec7fbd53f0>"
            ]
          },
          "metadata": {},
          "execution_count": 168
        }
      ],
      "source": [
        "pw1"
      ]
    },
    {
      "cell_type": "code",
      "execution_count": 169,
      "metadata": {
        "id": "b98598ac",
        "outputId": "277e0a0d-9a2c-425b-d3ea-e86df106252f",
        "colab": {
          "base_uri": "https://localhost:8080/"
        }
      },
      "outputs": [
        {
          "output_type": "stream",
          "name": "stdout",
          "text": [
            "this is a magic method which will print something for object \n"
          ]
        }
      ],
      "source": [
        "print(pw1)"
      ]
    },
    {
      "cell_type": "code",
      "execution_count": 170,
      "metadata": {
        "id": "9155baf0",
        "outputId": "2f91decb-5940-4713-b187-75439705eade",
        "colab": {
          "base_uri": "https://localhost:8080/"
        }
      },
      "outputs": [
        {
          "output_type": "execute_result",
          "data": {
            "text/plain": [
              "['__class__',\n",
              " '__class_getitem__',\n",
              " '__contains__',\n",
              " '__delattr__',\n",
              " '__delitem__',\n",
              " '__dir__',\n",
              " '__doc__',\n",
              " '__eq__',\n",
              " '__format__',\n",
              " '__ge__',\n",
              " '__getattribute__',\n",
              " '__getitem__',\n",
              " '__gt__',\n",
              " '__hash__',\n",
              " '__init__',\n",
              " '__init_subclass__',\n",
              " '__ior__',\n",
              " '__iter__',\n",
              " '__le__',\n",
              " '__len__',\n",
              " '__lt__',\n",
              " '__ne__',\n",
              " '__new__',\n",
              " '__or__',\n",
              " '__reduce__',\n",
              " '__reduce_ex__',\n",
              " '__repr__',\n",
              " '__reversed__',\n",
              " '__ror__',\n",
              " '__setattr__',\n",
              " '__setitem__',\n",
              " '__sizeof__',\n",
              " '__str__',\n",
              " '__subclasshook__',\n",
              " 'clear',\n",
              " 'copy',\n",
              " 'fromkeys',\n",
              " 'get',\n",
              " 'items',\n",
              " 'keys',\n",
              " 'pop',\n",
              " 'popitem',\n",
              " 'setdefault',\n",
              " 'update',\n",
              " 'values']"
            ]
          },
          "metadata": {},
          "execution_count": 170
        }
      ],
      "source": [
        "dir(dict)"
      ]
    },
    {
      "cell_type": "code",
      "execution_count": 171,
      "metadata": {
        "id": "affa6f66",
        "outputId": "760e2b40-b983-4940-85ad-60793e019359",
        "colab": {
          "base_uri": "https://localhost:8080/"
        }
      },
      "outputs": [
        {
          "output_type": "execute_result",
          "data": {
            "text/plain": [
              "['__add__',\n",
              " '__class__',\n",
              " '__class_getitem__',\n",
              " '__contains__',\n",
              " '__delattr__',\n",
              " '__dir__',\n",
              " '__doc__',\n",
              " '__eq__',\n",
              " '__format__',\n",
              " '__ge__',\n",
              " '__getattribute__',\n",
              " '__getitem__',\n",
              " '__getnewargs__',\n",
              " '__gt__',\n",
              " '__hash__',\n",
              " '__init__',\n",
              " '__init_subclass__',\n",
              " '__iter__',\n",
              " '__le__',\n",
              " '__len__',\n",
              " '__lt__',\n",
              " '__mul__',\n",
              " '__ne__',\n",
              " '__new__',\n",
              " '__reduce__',\n",
              " '__reduce_ex__',\n",
              " '__repr__',\n",
              " '__rmul__',\n",
              " '__setattr__',\n",
              " '__sizeof__',\n",
              " '__str__',\n",
              " '__subclasshook__',\n",
              " 'count',\n",
              " 'index']"
            ]
          },
          "metadata": {},
          "execution_count": 171
        }
      ],
      "source": [
        "dir(tuple)"
      ]
    },
    {
      "cell_type": "markdown",
      "source": [
        "# 10. Property decorators - Getters, Setters and Deleters"
      ],
      "metadata": {
        "id": "BbGHtmJHXNa5"
      }
    },
    {
      "cell_type": "code",
      "execution_count": 172,
      "metadata": {
        "id": "08a54cfc-4065-41b0-971d-2c8e88b5788f"
      },
      "outputs": [],
      "source": [
        "class pwskills:\n",
        "\n",
        "    def __init__(self, course_price , course_name):\n",
        "        self.__course_price = course_price\n",
        "        self.course_name = course_name\n",
        "\n",
        "    @property\n",
        "    def course_price_access(self):\n",
        "        return self.__course_price\n",
        "\n",
        "    @course_price_access.setter\n",
        "    def course_price_set(self , price):\n",
        "        if price <= 3500:\n",
        "            pass\n",
        "        else :\n",
        "            self.__course_price = price\n",
        "\n",
        "    @course_price_access.deleter\n",
        "    def course_price_del(self):\n",
        "        del  self.__course_price\n",
        "\n",
        "\n",
        "\n"
      ]
    },
    {
      "cell_type": "code",
      "execution_count": 173,
      "metadata": {
        "id": "aa678422-4681-4c70-92f9-4fb3ea373a93"
      },
      "outputs": [],
      "source": [
        "pw = pwskills(3500 , \"data science masters\")"
      ]
    },
    {
      "cell_type": "code",
      "execution_count": 174,
      "metadata": {
        "id": "94e4a6b1-e3c1-4b20-85a0-82a01bcef269",
        "outputId": "6953f1d2-43c6-45c8-fec6-153bbdd82ea9",
        "colab": {
          "base_uri": "https://localhost:8080/"
        }
      },
      "outputs": [
        {
          "output_type": "execute_result",
          "data": {
            "text/plain": [
              "3500"
            ]
          },
          "metadata": {},
          "execution_count": 174
        }
      ],
      "source": [
        "pw.course_price_access"
      ]
    },
    {
      "cell_type": "code",
      "execution_count": 175,
      "metadata": {
        "id": "26507163-cf11-48c4-b16b-aa8b0a5a0ad2"
      },
      "outputs": [],
      "source": [
        "del pw.course_price_del"
      ]
    },
    {
      "cell_type": "code",
      "execution_count": 176,
      "metadata": {
        "id": "3e896352-c653-4f44-90c6-ea771bb8b85a"
      },
      "outputs": [],
      "source": [
        "pw.course_price_set = 2300"
      ]
    },
    {
      "cell_type": "code",
      "execution_count": 177,
      "metadata": {
        "id": "ac79195d-530e-4e0c-8191-8c9f3c4a0040",
        "outputId": "328c5c5e-84b8-491f-e5db-f506452f0943",
        "colab": {
          "base_uri": "https://localhost:8080/",
          "height": 263
        }
      },
      "outputs": [
        {
          "output_type": "error",
          "ename": "AttributeError",
          "evalue": "'pwskills' object has no attribute '_pwskills__course_price'",
          "traceback": [
            "\u001b[0;31m---------------------------------------------------------------------------\u001b[0m",
            "\u001b[0;31mAttributeError\u001b[0m                            Traceback (most recent call last)",
            "\u001b[0;32m<ipython-input-177-605ce0d9a072>\u001b[0m in \u001b[0;36m<cell line: 1>\u001b[0;34m()\u001b[0m\n\u001b[0;32m----> 1\u001b[0;31m \u001b[0mpw\u001b[0m\u001b[0;34m.\u001b[0m\u001b[0mcourse_price_access\u001b[0m\u001b[0;34m\u001b[0m\u001b[0;34m\u001b[0m\u001b[0m\n\u001b[0m",
            "\u001b[0;32m<ipython-input-172-d5d7f69c04b0>\u001b[0m in \u001b[0;36mcourse_price_access\u001b[0;34m(self)\u001b[0m\n\u001b[1;32m      7\u001b[0m     \u001b[0;34m@\u001b[0m\u001b[0mproperty\u001b[0m\u001b[0;34m\u001b[0m\u001b[0;34m\u001b[0m\u001b[0m\n\u001b[1;32m      8\u001b[0m     \u001b[0;32mdef\u001b[0m \u001b[0mcourse_price_access\u001b[0m\u001b[0;34m(\u001b[0m\u001b[0mself\u001b[0m\u001b[0;34m)\u001b[0m\u001b[0;34m:\u001b[0m\u001b[0;34m\u001b[0m\u001b[0;34m\u001b[0m\u001b[0m\n\u001b[0;32m----> 9\u001b[0;31m         \u001b[0;32mreturn\u001b[0m \u001b[0mself\u001b[0m\u001b[0;34m.\u001b[0m\u001b[0m__course_price\u001b[0m\u001b[0;34m\u001b[0m\u001b[0;34m\u001b[0m\u001b[0m\n\u001b[0m\u001b[1;32m     10\u001b[0m \u001b[0;34m\u001b[0m\u001b[0m\n\u001b[1;32m     11\u001b[0m     \u001b[0;34m@\u001b[0m\u001b[0mcourse_price_access\u001b[0m\u001b[0;34m.\u001b[0m\u001b[0msetter\u001b[0m\u001b[0;34m\u001b[0m\u001b[0;34m\u001b[0m\u001b[0m\n",
            "\u001b[0;31mAttributeError\u001b[0m: 'pwskills' object has no attribute '_pwskills__course_price'"
          ]
        }
      ],
      "source": [
        "pw.course_price_access"
      ]
    },
    {
      "cell_type": "code",
      "execution_count": 178,
      "metadata": {
        "id": "18f5fa35-c1dd-4e0a-9749-90afbec5ed36"
      },
      "outputs": [],
      "source": [
        "pw.course_price_set = 4500"
      ]
    },
    {
      "cell_type": "code",
      "execution_count": 179,
      "metadata": {
        "id": "3b2cb159-3e13-49bb-8d1e-6e34a12a177a",
        "outputId": "6df90681-31ae-4759-86d0-e1d6c32726c7",
        "colab": {
          "base_uri": "https://localhost:8080/"
        }
      },
      "outputs": [
        {
          "output_type": "execute_result",
          "data": {
            "text/plain": [
              "4500"
            ]
          },
          "metadata": {},
          "execution_count": 179
        }
      ],
      "source": [
        "pw.course_price_access"
      ]
    },
    {
      "cell_type": "code",
      "execution_count": 180,
      "metadata": {
        "id": "542c4157-8b09-42fb-840a-a2fd9caa4566",
        "outputId": "6f51c13e-235a-4a52-d6d8-26c0d4416c2a",
        "colab": {
          "base_uri": "https://localhost:8080/",
          "height": 35
        }
      },
      "outputs": [
        {
          "output_type": "execute_result",
          "data": {
            "text/plain": [
              "'data science masters'"
            ],
            "application/vnd.google.colaboratory.intrinsic+json": {
              "type": "string"
            }
          },
          "metadata": {},
          "execution_count": 180
        }
      ],
      "source": [
        "pw.course_name"
      ]
    },
    {
      "cell_type": "code",
      "execution_count": 181,
      "metadata": {
        "id": "1fd0ecb1-eefc-47e9-a773-7c11c06a2f18",
        "outputId": "6048940c-55cf-4745-c12b-845419cb4057",
        "colab": {
          "base_uri": "https://localhost:8080/"
        }
      },
      "outputs": [
        {
          "output_type": "execute_result",
          "data": {
            "text/plain": [
              "4500"
            ]
          },
          "metadata": {},
          "execution_count": 181
        }
      ],
      "source": [
        "pw._pwskills__course_price"
      ]
    }
  ]
}