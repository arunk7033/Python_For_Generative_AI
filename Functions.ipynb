{
  "nbformat": 4,
  "nbformat_minor": 0,
  "metadata": {
    "colab": {
      "provenance": []
    },
    "kernelspec": {
      "name": "python3",
      "display_name": "Python 3"
    },
    "language_info": {
      "name": "python"
    }
  },
  "cells": [
    {
      "cell_type": "markdown",
      "source": [
        "# 1. Functions Part 1"
      ],
      "metadata": {
        "id": "TycV5WJ5DnSu"
      }
    },
    {
      "cell_type": "code",
      "source": [
        "print(\"this is my prog\")"
      ],
      "metadata": {
        "colab": {
          "base_uri": "https://localhost:8080/"
        },
        "id": "DLT1fzesDqqb",
        "outputId": "052e9340-cb09-4542-e3cb-8f55c552df2e"
      },
      "execution_count": 1,
      "outputs": [
        {
          "output_type": "stream",
          "name": "stdout",
          "text": [
            "this is my prog\n"
          ]
        }
      ]
    },
    {
      "cell_type": "code",
      "source": [
        "l = [1,2,3,4,5]"
      ],
      "metadata": {
        "id": "zzbKzp_ZD6rj"
      },
      "execution_count": 2,
      "outputs": []
    },
    {
      "cell_type": "code",
      "source": [
        "len(l)"
      ],
      "metadata": {
        "colab": {
          "base_uri": "https://localhost:8080/"
        },
        "id": "K0yuM31QD8dE",
        "outputId": "d75c7b5f-bc8a-4cf9-fe15-9a1a9f237fb5"
      },
      "execution_count": 3,
      "outputs": [
        {
          "output_type": "execute_result",
          "data": {
            "text/plain": [
              "5"
            ]
          },
          "metadata": {},
          "execution_count": 3
        }
      ]
    },
    {
      "cell_type": "code",
      "source": [
        "def test():\n",
        "    pass"
      ],
      "metadata": {
        "id": "MeHjVA9qD_ib"
      },
      "execution_count": 4,
      "outputs": []
    },
    {
      "cell_type": "code",
      "source": [
        "def test1():\n",
        "    print(\"this is my very very first fun\")"
      ],
      "metadata": {
        "id": "kxHkl7bGECyd"
      },
      "execution_count": 5,
      "outputs": []
    },
    {
      "cell_type": "code",
      "source": [
        "test1()"
      ],
      "metadata": {
        "colab": {
          "base_uri": "https://localhost:8080/"
        },
        "id": "HpBlCgjZEFxm",
        "outputId": "3cde394e-8167-440a-ca9d-7fc6488bd85c"
      },
      "execution_count": 6,
      "outputs": [
        {
          "output_type": "stream",
          "name": "stdout",
          "text": [
            "this is my very very first fun\n"
          ]
        }
      ]
    },
    {
      "cell_type": "code",
      "source": [
        "test1() + \"sudh\""
      ],
      "metadata": {
        "colab": {
          "base_uri": "https://localhost:8080/",
          "height": 159
        },
        "id": "-dKBypHTEIx7",
        "outputId": "eb94fa31-a6dd-46c3-c4e0-8d893c15cf55"
      },
      "execution_count": 7,
      "outputs": [
        {
          "output_type": "stream",
          "name": "stdout",
          "text": [
            "this is my very very first fun\n"
          ]
        },
        {
          "output_type": "error",
          "ename": "TypeError",
          "evalue": "unsupported operand type(s) for +: 'NoneType' and 'str'",
          "traceback": [
            "\u001b[0;31m---------------------------------------------------------------------------\u001b[0m",
            "\u001b[0;31mTypeError\u001b[0m                                 Traceback (most recent call last)",
            "\u001b[0;32m<ipython-input-7-c489b53accba>\u001b[0m in \u001b[0;36m<cell line: 1>\u001b[0;34m()\u001b[0m\n\u001b[0;32m----> 1\u001b[0;31m \u001b[0mtest1\u001b[0m\u001b[0;34m(\u001b[0m\u001b[0;34m)\u001b[0m \u001b[0;34m+\u001b[0m \u001b[0;34m\"sudh\"\u001b[0m\u001b[0;34m\u001b[0m\u001b[0;34m\u001b[0m\u001b[0m\n\u001b[0m",
            "\u001b[0;31mTypeError\u001b[0m: unsupported operand type(s) for +: 'NoneType' and 'str'"
          ]
        }
      ]
    },
    {
      "cell_type": "code",
      "source": [
        "def test2():\n",
        "    return \"this is my fun with return \""
      ],
      "metadata": {
        "id": "y6lu_nDwEP-t"
      },
      "execution_count": 8,
      "outputs": []
    },
    {
      "cell_type": "code",
      "source": [
        "test2()"
      ],
      "metadata": {
        "colab": {
          "base_uri": "https://localhost:8080/",
          "height": 35
        },
        "id": "FXQUcaBcERzz",
        "outputId": "ff91bfb2-c8e8-4bf6-b3b9-14f13ae5b5e6"
      },
      "execution_count": 9,
      "outputs": [
        {
          "output_type": "execute_result",
          "data": {
            "text/plain": [
              "'this is my fun with return '"
            ],
            "application/vnd.google.colaboratory.intrinsic+json": {
              "type": "string"
            }
          },
          "metadata": {},
          "execution_count": 9
        }
      ]
    },
    {
      "cell_type": "code",
      "source": [
        "test2() + \"sudh\""
      ],
      "metadata": {
        "colab": {
          "base_uri": "https://localhost:8080/",
          "height": 35
        },
        "id": "sdxjtNx0EUmV",
        "outputId": "4717ddf8-cb3a-4fd6-84ae-9760bfe00ce4"
      },
      "execution_count": 10,
      "outputs": [
        {
          "output_type": "execute_result",
          "data": {
            "text/plain": [
              "'this is my fun with return sudh'"
            ],
            "application/vnd.google.colaboratory.intrinsic+json": {
              "type": "string"
            }
          },
          "metadata": {},
          "execution_count": 10
        }
      ]
    },
    {
      "cell_type": "code",
      "source": [
        "def test3():\n",
        "    return 1, 4, \"pwskills\" , 34.56"
      ],
      "metadata": {
        "id": "jJLG-aKmEYA7"
      },
      "execution_count": 11,
      "outputs": []
    },
    {
      "cell_type": "code",
      "source": [
        "test3()"
      ],
      "metadata": {
        "colab": {
          "base_uri": "https://localhost:8080/"
        },
        "id": "I3g-jU4rEb5r",
        "outputId": "7d1242ce-2b64-4c5a-dd11-6092bc80a42d"
      },
      "execution_count": 12,
      "outputs": [
        {
          "output_type": "execute_result",
          "data": {
            "text/plain": [
              "(1, 4, 'pwskills', 34.56)"
            ]
          },
          "metadata": {},
          "execution_count": 12
        }
      ]
    },
    {
      "cell_type": "code",
      "source": [
        "a = 1,2,3,4,5"
      ],
      "metadata": {
        "id": "ROzir6oIEe2F"
      },
      "execution_count": 13,
      "outputs": []
    },
    {
      "cell_type": "code",
      "source": [
        "a"
      ],
      "metadata": {
        "colab": {
          "base_uri": "https://localhost:8080/"
        },
        "id": "MbV9ffs6Eh8E",
        "outputId": "928c7d1d-f510-4986-c92e-3cfb295f3252"
      },
      "execution_count": 14,
      "outputs": [
        {
          "output_type": "execute_result",
          "data": {
            "text/plain": [
              "(1, 2, 3, 4, 5)"
            ]
          },
          "metadata": {},
          "execution_count": 14
        }
      ]
    },
    {
      "cell_type": "code",
      "source": [
        "a,b,c,d = 1,2,34.56,True"
      ],
      "metadata": {
        "id": "S5yF9cqmEngk"
      },
      "execution_count": 15,
      "outputs": []
    },
    {
      "cell_type": "code",
      "source": [
        "a"
      ],
      "metadata": {
        "colab": {
          "base_uri": "https://localhost:8080/"
        },
        "id": "P3Zqbvq0Epvk",
        "outputId": "be7de644-2943-47a3-948c-d5aa59ab270b"
      },
      "execution_count": 16,
      "outputs": [
        {
          "output_type": "execute_result",
          "data": {
            "text/plain": [
              "1"
            ]
          },
          "metadata": {},
          "execution_count": 16
        }
      ]
    },
    {
      "cell_type": "code",
      "source": [
        "b"
      ],
      "metadata": {
        "colab": {
          "base_uri": "https://localhost:8080/"
        },
        "id": "EL2PsoA1EtH1",
        "outputId": "d672382d-e0e1-442e-b8e4-eafdd40bd4b4"
      },
      "execution_count": 17,
      "outputs": [
        {
          "output_type": "execute_result",
          "data": {
            "text/plain": [
              "2"
            ]
          },
          "metadata": {},
          "execution_count": 17
        }
      ]
    },
    {
      "cell_type": "code",
      "source": [
        "c"
      ],
      "metadata": {
        "colab": {
          "base_uri": "https://localhost:8080/"
        },
        "id": "t4IFjNK9Evpm",
        "outputId": "9fbbd806-a200-419d-8baa-0b9bd84bf1d9"
      },
      "execution_count": 18,
      "outputs": [
        {
          "output_type": "execute_result",
          "data": {
            "text/plain": [
              "34.56"
            ]
          },
          "metadata": {},
          "execution_count": 18
        }
      ]
    },
    {
      "cell_type": "code",
      "source": [
        "d"
      ],
      "metadata": {
        "colab": {
          "base_uri": "https://localhost:8080/"
        },
        "id": "iitx6heSEyfV",
        "outputId": "96da8a80-f91a-47c4-e611-9f11b1dc9bc5"
      },
      "execution_count": 19,
      "outputs": [
        {
          "output_type": "execute_result",
          "data": {
            "text/plain": [
              "True"
            ]
          },
          "metadata": {},
          "execution_count": 19
        }
      ]
    },
    {
      "cell_type": "code",
      "source": [
        "test3()"
      ],
      "metadata": {
        "colab": {
          "base_uri": "https://localhost:8080/"
        },
        "id": "zKKXAfLOE1tN",
        "outputId": "f2fe2302-0516-476d-9ac7-696d82576ce2"
      },
      "execution_count": 20,
      "outputs": [
        {
          "output_type": "execute_result",
          "data": {
            "text/plain": [
              "(1, 4, 'pwskills', 34.56)"
            ]
          },
          "metadata": {},
          "execution_count": 20
        }
      ]
    },
    {
      "cell_type": "code",
      "source": [
        "test3()[0]"
      ],
      "metadata": {
        "colab": {
          "base_uri": "https://localhost:8080/"
        },
        "id": "nZk8Yl1fE4mm",
        "outputId": "480dd9c7-2e36-41d6-80c8-4661ba26491f"
      },
      "execution_count": 21,
      "outputs": [
        {
          "output_type": "execute_result",
          "data": {
            "text/plain": [
              "1"
            ]
          },
          "metadata": {},
          "execution_count": 21
        }
      ]
    },
    {
      "cell_type": "code",
      "source": [
        "test3()[1]"
      ],
      "metadata": {
        "colab": {
          "base_uri": "https://localhost:8080/"
        },
        "id": "YyCIKy18E92F",
        "outputId": "36e65891-e3d7-4fd6-d760-5c26809a14e8"
      },
      "execution_count": 22,
      "outputs": [
        {
          "output_type": "execute_result",
          "data": {
            "text/plain": [
              "4"
            ]
          },
          "metadata": {},
          "execution_count": 22
        }
      ]
    },
    {
      "cell_type": "code",
      "source": [
        "test3()[2]"
      ],
      "metadata": {
        "colab": {
          "base_uri": "https://localhost:8080/",
          "height": 35
        },
        "id": "8BJtfwcCFBR9",
        "outputId": "368d99ea-dd73-40cd-bc87-d5067503cd97"
      },
      "execution_count": 23,
      "outputs": [
        {
          "output_type": "execute_result",
          "data": {
            "text/plain": [
              "'pwskills'"
            ],
            "application/vnd.google.colaboratory.intrinsic+json": {
              "type": "string"
            }
          },
          "metadata": {},
          "execution_count": 23
        }
      ]
    },
    {
      "cell_type": "code",
      "execution_count": 24,
      "metadata": {
        "id": "91d30ad7-2fbc-45ef-9f72-d0e70499a1e2"
      },
      "outputs": [],
      "source": [
        "a,b,c,d = test3()"
      ]
    },
    {
      "cell_type": "code",
      "execution_count": 25,
      "metadata": {
        "id": "e5a5329e-5369-4c45-a550-60a930fc59c8",
        "outputId": "88515881-03de-4be6-cefb-90ab45da256f",
        "colab": {
          "base_uri": "https://localhost:8080/"
        }
      },
      "outputs": [
        {
          "output_type": "execute_result",
          "data": {
            "text/plain": [
              "1"
            ]
          },
          "metadata": {},
          "execution_count": 25
        }
      ],
      "source": [
        "a"
      ]
    },
    {
      "cell_type": "code",
      "execution_count": 26,
      "metadata": {
        "id": "92d52d06-e107-4c95-80f5-8d0c51b74b88",
        "outputId": "3d3a00ae-d7c0-4ab2-d18f-b1787cabbbfd",
        "colab": {
          "base_uri": "https://localhost:8080/"
        }
      },
      "outputs": [
        {
          "output_type": "execute_result",
          "data": {
            "text/plain": [
              "4"
            ]
          },
          "metadata": {},
          "execution_count": 26
        }
      ],
      "source": [
        "b"
      ]
    },
    {
      "cell_type": "code",
      "execution_count": 27,
      "metadata": {
        "id": "e4edc97d-0801-4113-9a6c-e11fae4ca686",
        "outputId": "914b09bd-409a-4355-9b22-433f3a4d3682",
        "colab": {
          "base_uri": "https://localhost:8080/",
          "height": 35
        }
      },
      "outputs": [
        {
          "output_type": "execute_result",
          "data": {
            "text/plain": [
              "'pwskills'"
            ],
            "application/vnd.google.colaboratory.intrinsic+json": {
              "type": "string"
            }
          },
          "metadata": {},
          "execution_count": 27
        }
      ],
      "source": [
        "c"
      ]
    },
    {
      "cell_type": "code",
      "execution_count": 28,
      "metadata": {
        "id": "8f236cc1-acd9-4043-ac66-3d925ef1a226",
        "outputId": "974346f3-6594-4dce-8965-c72e8b486115",
        "colab": {
          "base_uri": "https://localhost:8080/"
        }
      },
      "outputs": [
        {
          "output_type": "execute_result",
          "data": {
            "text/plain": [
              "34.56"
            ]
          },
          "metadata": {},
          "execution_count": 28
        }
      ],
      "source": [
        "d"
      ]
    },
    {
      "cell_type": "code",
      "execution_count": 29,
      "metadata": {
        "id": "c402b074-90b9-47e9-8b02-aa449b9152ee"
      },
      "outputs": [],
      "source": [
        "def test4():\n",
        "    a = 3*4 +5\n",
        "    return a"
      ]
    },
    {
      "cell_type": "code",
      "execution_count": 30,
      "metadata": {
        "id": "bb40e142-10c2-4103-b385-057b2a75b5b9",
        "outputId": "fc54abe4-f31b-4ed8-aa2c-26029b9c0c5d",
        "colab": {
          "base_uri": "https://localhost:8080/"
        }
      },
      "outputs": [
        {
          "output_type": "execute_result",
          "data": {
            "text/plain": [
              "int"
            ]
          },
          "metadata": {},
          "execution_count": 30
        }
      ],
      "source": [
        "type(test4())"
      ]
    },
    {
      "cell_type": "code",
      "execution_count": 31,
      "metadata": {
        "id": "818052c8-a7be-4865-87b6-801d98cb6e1d"
      },
      "outputs": [],
      "source": [
        "def test5(a,b):\n",
        "    c = a +b\n",
        "    return c"
      ]
    },
    {
      "cell_type": "code",
      "execution_count": 32,
      "metadata": {
        "id": "ef512a0c-a6e4-49ca-a8d5-a0c7add2d914",
        "outputId": "a310dd8a-8039-4f66-9033-7f8a34a5cc8c",
        "colab": {
          "base_uri": "https://localhost:8080/"
        }
      },
      "outputs": [
        {
          "output_type": "execute_result",
          "data": {
            "text/plain": [
              "4"
            ]
          },
          "metadata": {},
          "execution_count": 32
        }
      ],
      "source": [
        "test5(1,3)"
      ]
    },
    {
      "cell_type": "code",
      "execution_count": 33,
      "metadata": {
        "id": "b2effb36-250a-4475-832e-6cdf381e3254",
        "outputId": "8d19048b-7ee8-42dd-c17d-d422a9a257ba",
        "colab": {
          "base_uri": "https://localhost:8080/",
          "height": 35
        }
      },
      "outputs": [
        {
          "output_type": "execute_result",
          "data": {
            "text/plain": [
              "'sudhkumar'"
            ],
            "application/vnd.google.colaboratory.intrinsic+json": {
              "type": "string"
            }
          },
          "metadata": {},
          "execution_count": 33
        }
      ],
      "source": [
        "test5(\"sudh\" , \"kumar\" )"
      ]
    },
    {
      "cell_type": "code",
      "execution_count": 34,
      "metadata": {
        "id": "8fe896bf-bfe7-41c0-a7b4-8d053dbd38fb",
        "outputId": "247cff17-4f5b-4bf6-9882-7190f2f74bbb",
        "colab": {
          "base_uri": "https://localhost:8080/"
        }
      },
      "outputs": [
        {
          "output_type": "execute_result",
          "data": {
            "text/plain": [
              "[1, 2, 3, 4, 4, 5, 6, 7, 8]"
            ]
          },
          "metadata": {},
          "execution_count": 34
        }
      ],
      "source": [
        "test5([1,2,3,4] , [4,5,6,7,8])"
      ]
    },
    {
      "cell_type": "code",
      "execution_count": 35,
      "metadata": {
        "id": "cff2043d-b735-4daa-ac9c-9b62317a5805",
        "outputId": "4b8a5996-59fd-4d88-d568-c63ccc8c3157",
        "colab": {
          "base_uri": "https://localhost:8080/",
          "height": 35
        }
      },
      "outputs": [
        {
          "output_type": "execute_result",
          "data": {
            "text/plain": [
              "'kumarsudh '"
            ],
            "application/vnd.google.colaboratory.intrinsic+json": {
              "type": "string"
            }
          },
          "metadata": {},
          "execution_count": 35
        }
      ],
      "source": [
        "test5(b = \"sudh \" , a = \"kumar\")"
      ]
    },
    {
      "cell_type": "code",
      "execution_count": 36,
      "metadata": {
        "id": "74c096ad-403f-49d3-a1cc-46eb16d0c5bb"
      },
      "outputs": [],
      "source": [
        "l = [1,2,3,4,5,\"sudh\" , \"pwskills\" , [1,2,3,34,45]]"
      ]
    },
    {
      "cell_type": "code",
      "execution_count": 37,
      "metadata": {
        "id": "39d3c591-d6d7-4547-8c18-a794d19d79a4"
      },
      "outputs": [],
      "source": [
        "#create a function which will take list as a input and give me a final list with all the numeric value"
      ]
    },
    {
      "cell_type": "code",
      "execution_count": 38,
      "metadata": {
        "id": "6b08f2a0-6b62-4584-8c3c-95c345578b3b"
      },
      "outputs": [],
      "source": [
        "def test6(a):\n",
        "    n  = []\n",
        "    for i in a :\n",
        "        if type(i) == int or type(i) == float :\n",
        "            n.append(i)\n",
        "    return n"
      ]
    },
    {
      "cell_type": "code",
      "execution_count": 39,
      "metadata": {
        "id": "aeda1e1a-6c70-4163-95a2-baf3f2b35ea9",
        "outputId": "2c5781e2-0742-4295-e894-77780112485f",
        "colab": {
          "base_uri": "https://localhost:8080/"
        }
      },
      "outputs": [
        {
          "output_type": "execute_result",
          "data": {
            "text/plain": [
              "[1, 2, 3, 4, 5]"
            ]
          },
          "metadata": {},
          "execution_count": 39
        }
      ],
      "source": [
        "test6(l)"
      ]
    },
    {
      "cell_type": "code",
      "execution_count": 40,
      "metadata": {
        "id": "120b254e-4e49-4b6c-80bd-bfd8a2962e26",
        "outputId": "27d7d970-4790-4616-eba6-c345ffdaee1a",
        "colab": {
          "base_uri": "https://localhost:8080/"
        }
      },
      "outputs": [
        {
          "output_type": "execute_result",
          "data": {
            "text/plain": [
              "[1, 2, 3, 4, 5, 'sudh', 'pwskills', [1, 2, 3, 34, 45]]"
            ]
          },
          "metadata": {},
          "execution_count": 40
        }
      ],
      "source": [
        "l"
      ]
    },
    {
      "cell_type": "code",
      "execution_count": 41,
      "metadata": {
        "id": "0592d5d7-2f86-49b3-8e9c-3ce95e986f43"
      },
      "outputs": [],
      "source": [
        "def test7(a) :\n",
        "    n = []\n",
        "    for i in a :\n",
        "        if type(i) == list :\n",
        "            for j in i :\n",
        "                if type(j) == int or type(j) == float :\n",
        "                    n.append(j)\n",
        "        else :\n",
        "            if type(i) == int or type(i) == float :\n",
        "                n.append(i)\n",
        "    return n\n",
        "\n"
      ]
    },
    {
      "cell_type": "code",
      "execution_count": 42,
      "metadata": {
        "id": "6140b43d-745a-4c5f-969d-f71ccecc4159",
        "outputId": "c7e00600-ee25-4228-ea32-4726912dc29e",
        "colab": {
          "base_uri": "https://localhost:8080/"
        }
      },
      "outputs": [
        {
          "output_type": "execute_result",
          "data": {
            "text/plain": [
              "[1, 2, 3, 4, 5, 1, 2, 3, 34, 45]"
            ]
          },
          "metadata": {},
          "execution_count": 42
        }
      ],
      "source": [
        "test7(l)"
      ]
    },
    {
      "cell_type": "code",
      "execution_count": 43,
      "metadata": {
        "id": "34007b2f-daf0-4589-9bfe-62a508535527",
        "outputId": "6a65da5e-d98c-4702-c0a3-a84f1aa3dc4d",
        "colab": {
          "base_uri": "https://localhost:8080/"
        }
      },
      "outputs": [
        {
          "output_type": "execute_result",
          "data": {
            "text/plain": [
              "[1, 2, 3, 4, 5, 'sudh', 'pwskills', [1, 2, 3, 34, 45]]"
            ]
          },
          "metadata": {},
          "execution_count": 43
        }
      ],
      "source": [
        "l"
      ]
    },
    {
      "cell_type": "markdown",
      "source": [
        "# Function Part 2"
      ],
      "metadata": {
        "id": "Rlk1WEAQGp-1"
      }
    },
    {
      "cell_type": "code",
      "execution_count": 44,
      "metadata": {
        "id": "694e8ac3-5c7e-4aee-97f1-8e5855cf004b"
      },
      "outputs": [],
      "source": [
        "def test(a,b,c,d,e):\n",
        "    pass"
      ]
    },
    {
      "cell_type": "code",
      "execution_count": 45,
      "metadata": {
        "id": "e415fe12-c717-4c79-8fec-a5af0a776587",
        "outputId": "9bc4a2d3-76a0-4a3d-a093-fe87ae135257",
        "colab": {
          "base_uri": "https://localhost:8080/",
          "height": 141
        }
      },
      "outputs": [
        {
          "output_type": "error",
          "ename": "TypeError",
          "evalue": "test() takes 5 positional arguments but 7 were given",
          "traceback": [
            "\u001b[0;31m---------------------------------------------------------------------------\u001b[0m",
            "\u001b[0;31mTypeError\u001b[0m                                 Traceback (most recent call last)",
            "\u001b[0;32m<ipython-input-45-55838451a726>\u001b[0m in \u001b[0;36m<cell line: 1>\u001b[0;34m()\u001b[0m\n\u001b[0;32m----> 1\u001b[0;31m \u001b[0mtest\u001b[0m\u001b[0;34m(\u001b[0m\u001b[0;36m1\u001b[0m\u001b[0;34m,\u001b[0m\u001b[0;36m2\u001b[0m\u001b[0;34m,\u001b[0m\u001b[0;36m3\u001b[0m\u001b[0;34m,\u001b[0m\u001b[0;36m4\u001b[0m\u001b[0;34m,\u001b[0m\u001b[0;36m5\u001b[0m\u001b[0;34m,\u001b[0m\u001b[0;36m6\u001b[0m\u001b[0;34m,\u001b[0m\u001b[0;36m7\u001b[0m\u001b[0;34m)\u001b[0m\u001b[0;34m\u001b[0m\u001b[0;34m\u001b[0m\u001b[0m\n\u001b[0m",
            "\u001b[0;31mTypeError\u001b[0m: test() takes 5 positional arguments but 7 were given"
          ]
        }
      ],
      "source": [
        "test(1,2,3,4,5,6,7)"
      ]
    },
    {
      "cell_type": "code",
      "execution_count": 46,
      "metadata": {
        "id": "83ea805a-dec6-4c0b-a898-3c3b0070659c"
      },
      "outputs": [],
      "source": [
        "def test1(*args):\n",
        "    return args"
      ]
    },
    {
      "cell_type": "code",
      "execution_count": 47,
      "metadata": {
        "id": "aac653f4-79f1-414d-8e7f-de415667bca6",
        "outputId": "e0993471-88cb-45b7-be9a-f67b056fefde",
        "colab": {
          "base_uri": "https://localhost:8080/"
        }
      },
      "outputs": [
        {
          "output_type": "execute_result",
          "data": {
            "text/plain": [
              "(2,)"
            ]
          },
          "metadata": {},
          "execution_count": 47
        }
      ],
      "source": [
        "test1(2)"
      ]
    },
    {
      "cell_type": "code",
      "execution_count": 48,
      "metadata": {
        "id": "9de92cfd-19b5-4cdc-8150-04461003e3a7",
        "outputId": "19030c35-6d2f-46f0-c413-c862a9665dcd",
        "colab": {
          "base_uri": "https://localhost:8080/"
        }
      },
      "outputs": [
        {
          "output_type": "execute_result",
          "data": {
            "text/plain": [
              "(1, 2, 3, 4, 5, 5)"
            ]
          },
          "metadata": {},
          "execution_count": 48
        }
      ],
      "source": [
        "test1(1,2,3,4,5,5)"
      ]
    },
    {
      "cell_type": "code",
      "execution_count": 49,
      "metadata": {
        "id": "f0e21dde-a944-43f1-a370-cdfd8bbf57b0",
        "outputId": "514e9bfb-62da-4c82-d0e0-a86466e2c6ef",
        "colab": {
          "base_uri": "https://localhost:8080/"
        }
      },
      "outputs": [
        {
          "output_type": "execute_result",
          "data": {
            "text/plain": [
              "('sudh', [1, 2, 3, 4, 5], (1, 2, 3, 4, 5))"
            ]
          },
          "metadata": {},
          "execution_count": 49
        }
      ],
      "source": [
        "test1(\"sudh\" , [1,2,3,4,5] , (1,2,3,4,5))"
      ]
    },
    {
      "cell_type": "code",
      "execution_count": 50,
      "metadata": {
        "id": "cbd05404-26aa-442b-8a98-78fcc47c8f88"
      },
      "outputs": [],
      "source": [
        "def test2(*sudh):\n",
        "    return sudh"
      ]
    },
    {
      "cell_type": "code",
      "execution_count": 51,
      "metadata": {
        "id": "3f2cad3d-5284-4535-90ce-773029b98747",
        "outputId": "3da43276-d13b-4151-f370-9db594a051bf",
        "colab": {
          "base_uri": "https://localhost:8080/"
        }
      },
      "outputs": [
        {
          "output_type": "execute_result",
          "data": {
            "text/plain": [
              "(3, 4, 5, 6)"
            ]
          },
          "metadata": {},
          "execution_count": 51
        }
      ],
      "source": [
        "test2(3,4,5,6)"
      ]
    },
    {
      "cell_type": "code",
      "execution_count": 52,
      "metadata": {
        "id": "23c18b17-c288-49d9-8e36-3d3cfebc7942"
      },
      "outputs": [],
      "source": [
        "def test3(*args , a ):\n",
        "    return args ,a"
      ]
    },
    {
      "cell_type": "code",
      "execution_count": 53,
      "metadata": {
        "id": "4bd8ecda-8788-4569-a09c-06c30b704f0e",
        "outputId": "48e007de-ac4e-4551-9fa5-c726bbbba052",
        "colab": {
          "base_uri": "https://localhost:8080/",
          "height": 141
        }
      },
      "outputs": [
        {
          "output_type": "error",
          "ename": "TypeError",
          "evalue": "test3() missing 1 required keyword-only argument: 'a'",
          "traceback": [
            "\u001b[0;31m---------------------------------------------------------------------------\u001b[0m",
            "\u001b[0;31mTypeError\u001b[0m                                 Traceback (most recent call last)",
            "\u001b[0;32m<ipython-input-53-2e3544117871>\u001b[0m in \u001b[0;36m<cell line: 1>\u001b[0;34m()\u001b[0m\n\u001b[0;32m----> 1\u001b[0;31m \u001b[0mtest3\u001b[0m\u001b[0;34m(\u001b[0m\u001b[0;36m3\u001b[0m\u001b[0;34m)\u001b[0m\u001b[0;34m\u001b[0m\u001b[0;34m\u001b[0m\u001b[0m\n\u001b[0m",
            "\u001b[0;31mTypeError\u001b[0m: test3() missing 1 required keyword-only argument: 'a'"
          ]
        }
      ],
      "source": [
        "test3(3)"
      ]
    },
    {
      "cell_type": "code",
      "execution_count": 54,
      "metadata": {
        "id": "78781055-f3a7-4474-a8d2-3166159b504a",
        "outputId": "172e60b5-521f-4c87-c7ec-836a190c68ac",
        "colab": {
          "base_uri": "https://localhost:8080/"
        }
      },
      "outputs": [
        {
          "output_type": "execute_result",
          "data": {
            "text/plain": [
              "((1, 2, 3, 4), 'sudh')"
            ]
          },
          "metadata": {},
          "execution_count": 54
        }
      ],
      "source": [
        "test3(1,2,3,4 ,a = \"sudh\" )"
      ]
    },
    {
      "cell_type": "code",
      "execution_count": 55,
      "metadata": {
        "id": "47e5fc44-1468-4090-84af-76c4be471820"
      },
      "outputs": [],
      "source": [
        "def test4(*args):\n",
        "    l = []\n",
        "    for i in args:\n",
        "        if type(i) == list :\n",
        "            l.append(i)\n",
        "\n",
        "    return l\n"
      ]
    },
    {
      "cell_type": "code",
      "execution_count": 56,
      "metadata": {
        "id": "29c145ca-2bbf-4b44-a99d-978cb71064cd",
        "outputId": "174f19eb-a7b5-48fc-9408-2b77bdd0468f",
        "colab": {
          "base_uri": "https://localhost:8080/"
        }
      },
      "outputs": [
        {
          "output_type": "execute_result",
          "data": {
            "text/plain": [
              "[[1, 2, 3, 4, 4], [4, 5, 6], [6, 7, 8]]"
            ]
          },
          "metadata": {},
          "execution_count": 56
        }
      ],
      "source": [
        "test4(1,2,3,[1,2,3,4,4] , (1,2,3,4,4) , \"sudh\" , [4,5,6] , [6,7,8])"
      ]
    },
    {
      "cell_type": "code",
      "execution_count": 57,
      "metadata": {
        "id": "bd6c6347-b383-4293-b669-cddda4f9062c"
      },
      "outputs": [],
      "source": [
        "def test5(**kwargs):\n",
        "    return kwargs\n"
      ]
    },
    {
      "cell_type": "code",
      "execution_count": 58,
      "metadata": {
        "id": "112bed1f-4854-4910-9801-99cbbced6d65",
        "outputId": "f5966dcf-fb40-46d7-97a1-fac7270cddc4",
        "colab": {
          "base_uri": "https://localhost:8080/"
        }
      },
      "outputs": [
        {
          "output_type": "execute_result",
          "data": {
            "text/plain": [
              "{}"
            ]
          },
          "metadata": {},
          "execution_count": 58
        }
      ],
      "source": [
        "test5()"
      ]
    },
    {
      "cell_type": "code",
      "execution_count": 59,
      "metadata": {
        "id": "cae1d714-1229-41a7-86fd-6588fe724922",
        "outputId": "e4c6b979-ba3d-4b04-8cb5-9294e51eb9d1",
        "colab": {
          "base_uri": "https://localhost:8080/"
        }
      },
      "outputs": [
        {
          "output_type": "execute_result",
          "data": {
            "text/plain": [
              "dict"
            ]
          },
          "metadata": {},
          "execution_count": 59
        }
      ],
      "source": [
        "type(test5())"
      ]
    },
    {
      "cell_type": "code",
      "execution_count": 60,
      "metadata": {
        "id": "fdb6f7e3-029f-4d1f-bc80-6ee7d54b4135",
        "outputId": "dfcbac01-2d0a-4975-96c3-e46607cf9342",
        "colab": {
          "base_uri": "https://localhost:8080/"
        }
      },
      "outputs": [
        {
          "output_type": "execute_result",
          "data": {
            "text/plain": [
              "{'a': 34, 'b': 23, 'c': [1, 2, 3, 4], 'd': ('sudh', 'pwskills')}"
            ]
          },
          "metadata": {},
          "execution_count": 60
        }
      ],
      "source": [
        "test5(a = 34 , b = 23 , c = [1,2,3,4] , d = (\"sudh\" , \"pwskills\"))"
      ]
    },
    {
      "cell_type": "code",
      "execution_count": 61,
      "metadata": {
        "id": "fe828daf-f674-4d0a-8f17-353037738739"
      },
      "outputs": [],
      "source": [
        "def test6(**kwargs):\n",
        "    for i in kwargs.keys():\n",
        "        if type(kwargs[i] ) == list :\n",
        "            return i , kwargs[i]"
      ]
    },
    {
      "cell_type": "code",
      "execution_count": 62,
      "metadata": {
        "id": "549e2b08-c928-4a2f-a596-ddc7c0dc6e38",
        "outputId": "d7605ef7-3423-4efb-856d-f885c306b420",
        "colab": {
          "base_uri": "https://localhost:8080/"
        }
      },
      "outputs": [
        {
          "output_type": "execute_result",
          "data": {
            "text/plain": [
              "('c', [1, 2, 3, 4])"
            ]
          },
          "metadata": {},
          "execution_count": 62
        }
      ],
      "source": [
        "test6(a = 34 , b = 23 , c = [1,2,3,4] , d = (\"sudh\" , \"pwskills\"))"
      ]
    },
    {
      "cell_type": "code",
      "execution_count": 63,
      "metadata": {
        "id": "b2937de1-d962-4f34-b8e5-a4a9217d5b0d"
      },
      "outputs": [],
      "source": [
        "def test7(*args , **kwargs) :\n",
        "    return args , kwargs\n"
      ]
    },
    {
      "cell_type": "code",
      "execution_count": 64,
      "metadata": {
        "id": "d2b1aa3f-57bb-4388-a417-4df2a0d9a0c6",
        "outputId": "1c5dc3a6-7ee7-4ccc-d584-d1ad7ec32f06",
        "colab": {
          "base_uri": "https://localhost:8080/"
        }
      },
      "outputs": [
        {
          "output_type": "execute_result",
          "data": {
            "text/plain": [
              "((2, 3, 4, 5), {'a': 34, 'b': 98})"
            ]
          },
          "metadata": {},
          "execution_count": 64
        }
      ],
      "source": [
        "test7(2,3,4,5,a= 34, b = 98)"
      ]
    },
    {
      "cell_type": "markdown",
      "source": [
        "# 3. Generator Functions"
      ],
      "metadata": {
        "id": "k1yFgSG1JnVJ"
      }
    },
    {
      "cell_type": "code",
      "execution_count": 65,
      "metadata": {
        "id": "cde2c21e-cb4d-4615-8605-fdb92cae43c2",
        "outputId": "a8a55c94-9c9a-4551-e88b-fa6c5418c459",
        "colab": {
          "base_uri": "https://localhost:8080/"
        }
      },
      "outputs": [
        {
          "output_type": "execute_result",
          "data": {
            "text/plain": [
              "range(1, 10)"
            ]
          },
          "metadata": {},
          "execution_count": 65
        }
      ],
      "source": [
        "range(1,10)"
      ]
    },
    {
      "cell_type": "code",
      "execution_count": 66,
      "metadata": {
        "id": "a278e0be-af1b-48b1-a6b7-2365dd5bcba5",
        "outputId": "e9873ab6-72dd-45a8-e670-302c458889c5",
        "colab": {
          "base_uri": "https://localhost:8080/"
        }
      },
      "outputs": [
        {
          "output_type": "stream",
          "name": "stdout",
          "text": [
            "1\n",
            "2\n",
            "3\n",
            "4\n",
            "5\n",
            "6\n",
            "7\n",
            "8\n",
            "9\n"
          ]
        }
      ],
      "source": [
        "for i in range(1,10):\n",
        "    print(i)"
      ]
    },
    {
      "cell_type": "code",
      "execution_count": 67,
      "metadata": {
        "id": "3eef72c7-663d-4798-8997-0b262c688444"
      },
      "outputs": [],
      "source": [
        "l = [1,2,3,4,4,5,6,7,8,7,\"sudh\"  , \"pwskills\"]"
      ]
    },
    {
      "cell_type": "code",
      "execution_count": 68,
      "metadata": {
        "id": "5a7442f6-af43-4729-af05-7907f6759824"
      },
      "outputs": [],
      "source": [
        "def test1(a) :\n",
        "    n = []\n",
        "    for i in a :\n",
        "        if type(i) == int :\n",
        "            n.append(i)\n",
        "    return n"
      ]
    },
    {
      "cell_type": "code",
      "execution_count": 69,
      "metadata": {
        "id": "07fc0b2f-3896-43de-b00d-fa0fa0bda528",
        "outputId": "63379413-ee7a-43f8-fb34-419246c49c5a",
        "colab": {
          "base_uri": "https://localhost:8080/"
        }
      },
      "outputs": [
        {
          "output_type": "execute_result",
          "data": {
            "text/plain": [
              "[1, 2, 3, 4, 4, 5, 6, 7, 8, 7]"
            ]
          },
          "metadata": {},
          "execution_count": 69
        }
      ],
      "source": [
        "test1(l)"
      ]
    },
    {
      "cell_type": "code",
      "execution_count": 73,
      "metadata": {
        "id": "eae7b176-33d8-44ca-b506-af5707079374",
        "colab": {
          "base_uri": "https://localhost:8080/",
          "height": 106
        },
        "outputId": "e092e056-96e8-4410-d6f7-18b1d5b36e10"
      },
      "outputs": [
        {
          "output_type": "error",
          "ename": "SyntaxError",
          "evalue": "invalid syntax (<ipython-input-73-1a7510cbda9f>, line 1)",
          "traceback": [
            "\u001b[0;36m  File \u001b[0;32m\"<ipython-input-73-1a7510cbda9f>\"\u001b[0;36m, line \u001b[0;32m1\u001b[0m\n\u001b[0;31m    Fibonacci :\u001b[0m\n\u001b[0m               ^\u001b[0m\n\u001b[0;31mSyntaxError\u001b[0m\u001b[0;31m:\u001b[0m invalid syntax\n"
          ]
        }
      ],
      "source": [
        "Fibonacci :\n",
        "\n",
        "    0 ,1 ,1,2,3,5,8,13,21,34"
      ]
    },
    {
      "cell_type": "code",
      "execution_count": 71,
      "metadata": {
        "id": "50096d37-2b61-46e4-9a2a-1fa2048fad9c"
      },
      "outputs": [],
      "source": [
        "def test_fib(n) :\n",
        "    a,b = 0,1\n",
        "    for i in range(n):\n",
        "        yield a\n",
        "        a,b = b ,a+b"
      ]
    },
    {
      "cell_type": "code",
      "execution_count": 74,
      "metadata": {
        "id": "7790ac33-d5dd-4cda-9de4-a5dff0370fae",
        "outputId": "f56ee4f2-7e8f-4dd4-d352-31c3c77c86cf",
        "colab": {
          "base_uri": "https://localhost:8080/"
        }
      },
      "outputs": [
        {
          "output_type": "execute_result",
          "data": {
            "text/plain": [
              "<generator object test_fib at 0x7f4234700350>"
            ]
          },
          "metadata": {},
          "execution_count": 74
        }
      ],
      "source": [
        "test_fib(10)"
      ]
    },
    {
      "cell_type": "code",
      "execution_count": 75,
      "metadata": {
        "id": "3518501e-7e22-40a7-a743-ec3b8c04bf8e",
        "outputId": "831177f2-09ba-4f75-9509-20d3353028a4",
        "colab": {
          "base_uri": "https://localhost:8080/"
        }
      },
      "outputs": [
        {
          "output_type": "stream",
          "name": "stdout",
          "text": [
            "0\n",
            "1\n",
            "1\n",
            "2\n",
            "3\n",
            "5\n",
            "8\n",
            "13\n",
            "21\n",
            "34\n"
          ]
        }
      ],
      "source": [
        "for i in test_fib(10) :\n",
        "    print(i)"
      ]
    },
    {
      "cell_type": "markdown",
      "source": [
        "# 4. Lambda function"
      ],
      "metadata": {
        "id": "jndqdjnUMfhG"
      }
    },
    {
      "cell_type": "code",
      "execution_count": 76,
      "metadata": {
        "id": "3286809f-37f5-41b5-98e5-f7ec53e91e24"
      },
      "outputs": [],
      "source": [
        "n = 3\n",
        "p = 2"
      ]
    },
    {
      "cell_type": "code",
      "execution_count": 77,
      "metadata": {
        "id": "294dc779-49ee-4852-93df-5e0ef1cb4f8c"
      },
      "outputs": [],
      "source": [
        "def test(n,p):\n",
        "    return n**p"
      ]
    },
    {
      "cell_type": "code",
      "execution_count": 78,
      "metadata": {
        "id": "26fc4c90-2fcf-4d72-996f-f8ca7c3dca6b",
        "outputId": "0422ec70-8bfa-42ad-83e0-eef630689d4f",
        "colab": {
          "base_uri": "https://localhost:8080/"
        }
      },
      "outputs": [
        {
          "output_type": "execute_result",
          "data": {
            "text/plain": [
              "9"
            ]
          },
          "metadata": {},
          "execution_count": 78
        }
      ],
      "source": [
        "test(3,2)"
      ]
    },
    {
      "cell_type": "code",
      "execution_count": 79,
      "metadata": {
        "id": "6c04dd5a-dc3d-4b2d-96a3-a9bb36c96e90",
        "outputId": "18ee821a-99cd-4eba-8433-5057662af22b",
        "colab": {
          "base_uri": "https://localhost:8080/"
        }
      },
      "outputs": [
        {
          "output_type": "execute_result",
          "data": {
            "text/plain": [
              "6561"
            ]
          },
          "metadata": {},
          "execution_count": 79
        }
      ],
      "source": [
        "test(9,4)"
      ]
    },
    {
      "cell_type": "code",
      "execution_count": 80,
      "metadata": {
        "id": "10d6fe59-d00b-4ef9-abcd-17c989367f00"
      },
      "outputs": [],
      "source": [
        "a = lambda n,p : n**p"
      ]
    },
    {
      "cell_type": "code",
      "execution_count": 81,
      "metadata": {
        "id": "6ef4fd8f-ad84-4aa9-981d-c8ba56fff5eb",
        "outputId": "1d441be3-5ef6-4876-b296-039d0e570558",
        "colab": {
          "base_uri": "https://localhost:8080/"
        }
      },
      "outputs": [
        {
          "output_type": "execute_result",
          "data": {
            "text/plain": [
              "9"
            ]
          },
          "metadata": {},
          "execution_count": 81
        }
      ],
      "source": [
        "a(3,2)"
      ]
    },
    {
      "cell_type": "code",
      "execution_count": 82,
      "metadata": {
        "id": "c11c59b8-df0e-48ad-8641-77b22eba1e71",
        "outputId": "630d3b0b-3898-4ba6-b446-534f6c95510c",
        "colab": {
          "base_uri": "https://localhost:8080/"
        }
      },
      "outputs": [
        {
          "output_type": "execute_result",
          "data": {
            "text/plain": [
              "6561"
            ]
          },
          "metadata": {},
          "execution_count": 82
        }
      ],
      "source": [
        "a(9,4)"
      ]
    },
    {
      "cell_type": "code",
      "execution_count": 83,
      "metadata": {
        "id": "d2884988-b8fa-4623-8104-ef453ed77bb7"
      },
      "outputs": [],
      "source": [
        "add = lambda x,y : x+y"
      ]
    },
    {
      "cell_type": "code",
      "execution_count": 84,
      "metadata": {
        "id": "2627c9f8-2788-4845-b498-9e50f78cdfa2",
        "outputId": "6af85598-a825-4eb0-b541-d076733ee2c8",
        "colab": {
          "base_uri": "https://localhost:8080/"
        }
      },
      "outputs": [
        {
          "output_type": "execute_result",
          "data": {
            "text/plain": [
              "268"
            ]
          },
          "metadata": {},
          "execution_count": 84
        }
      ],
      "source": [
        "add(234,34)"
      ]
    },
    {
      "cell_type": "code",
      "execution_count": 85,
      "metadata": {
        "id": "52a5114e-85de-42a9-9e18-481a6ae83562"
      },
      "outputs": [],
      "source": [
        "c_to_f = lambda c : (9/5)*c+32"
      ]
    },
    {
      "cell_type": "code",
      "execution_count": 86,
      "metadata": {
        "id": "c6fca98f-2fc5-4d36-971e-3c8351e54542",
        "outputId": "9659c682-270f-4687-82b7-297249876207",
        "colab": {
          "base_uri": "https://localhost:8080/"
        }
      },
      "outputs": [
        {
          "output_type": "execute_result",
          "data": {
            "text/plain": [
              "93.2"
            ]
          },
          "metadata": {},
          "execution_count": 86
        }
      ],
      "source": [
        "c_to_f(34)"
      ]
    },
    {
      "cell_type": "code",
      "execution_count": 87,
      "metadata": {
        "id": "34909804-4994-4156-af97-cc0a119e415c"
      },
      "outputs": [],
      "source": [
        "max_two = lambda x,y : x if x> y else y"
      ]
    },
    {
      "cell_type": "code",
      "execution_count": 88,
      "metadata": {
        "id": "225d4d12-cbfc-4089-9e2a-ac5215102234",
        "outputId": "144c4b0f-9a81-4c7a-9629-b7629eff96a2",
        "colab": {
          "base_uri": "https://localhost:8080/"
        }
      },
      "outputs": [
        {
          "output_type": "execute_result",
          "data": {
            "text/plain": [
              "56"
            ]
          },
          "metadata": {},
          "execution_count": 88
        }
      ],
      "source": [
        "max_two(4,56)"
      ]
    },
    {
      "cell_type": "code",
      "execution_count": 89,
      "metadata": {
        "id": "feafa8c9-4458-4306-9d3c-b50fde75601c"
      },
      "outputs": [],
      "source": [
        "s = \"pwskills\""
      ]
    },
    {
      "cell_type": "code",
      "execution_count": 90,
      "metadata": {
        "id": "35f5e50e-a521-4eab-9b13-a31f57dcd339"
      },
      "outputs": [],
      "source": [
        "len_st = lambda s : len(s)"
      ]
    },
    {
      "cell_type": "code",
      "execution_count": 91,
      "metadata": {
        "id": "0c3daf87-f9fe-45c2-8c0a-523a7425b6c1",
        "outputId": "e57ed966-1f1f-44f4-a386-9bc5377064d6",
        "colab": {
          "base_uri": "https://localhost:8080/"
        }
      },
      "outputs": [
        {
          "output_type": "execute_result",
          "data": {
            "text/plain": [
              "8"
            ]
          },
          "metadata": {},
          "execution_count": 91
        }
      ],
      "source": [
        "len_st(s)"
      ]
    },
    {
      "cell_type": "markdown",
      "source": [
        "# 5. Map, Reduce and filter functions"
      ],
      "metadata": {
        "id": "GzNiTeR1NNEd"
      }
    },
    {
      "cell_type": "code",
      "execution_count": 92,
      "metadata": {
        "id": "c7bb53e7-8766-4c35-a8a6-2b11740efa92"
      },
      "outputs": [],
      "source": [
        "l = [1,2,3,4,45,5]"
      ]
    },
    {
      "cell_type": "code",
      "execution_count": 93,
      "metadata": {
        "id": "3152c13f-c53c-47f2-8372-5b72f68f42bb"
      },
      "outputs": [],
      "source": [
        "def test(l):\n",
        "    l1 = []\n",
        "    for i in l :\n",
        "        l1.append(i**2)\n",
        "    return l1\n"
      ]
    },
    {
      "cell_type": "code",
      "execution_count": 94,
      "metadata": {
        "id": "04e32ff4-bd51-4c94-9a95-131f44c92006",
        "outputId": "d60ac0c6-3df0-435e-e4fc-89e2d581a1f0",
        "colab": {
          "base_uri": "https://localhost:8080/"
        }
      },
      "outputs": [
        {
          "output_type": "execute_result",
          "data": {
            "text/plain": [
              "[1, 4, 9, 16, 2025, 25]"
            ]
          },
          "metadata": {},
          "execution_count": 94
        }
      ],
      "source": [
        "test(l)"
      ]
    },
    {
      "cell_type": "code",
      "execution_count": 95,
      "metadata": {
        "id": "3ddc6543-018b-4e05-96c8-a28596c8750d"
      },
      "outputs": [],
      "source": [
        "def sq(x):\n",
        "    return x**2"
      ]
    },
    {
      "cell_type": "code",
      "execution_count": 96,
      "metadata": {
        "id": "1f518968-0287-4652-a562-e60f76a0d412",
        "outputId": "12bdc09a-c8d3-4eda-aef1-3ccef703b239",
        "colab": {
          "base_uri": "https://localhost:8080/"
        }
      },
      "outputs": [
        {
          "output_type": "execute_result",
          "data": {
            "text/plain": [
              "[1, 4, 9, 16, 2025, 25]"
            ]
          },
          "metadata": {},
          "execution_count": 96
        }
      ],
      "source": [
        "list(map(sq , l))"
      ]
    },
    {
      "cell_type": "code",
      "execution_count": 97,
      "metadata": {
        "id": "7a758966-eb2e-48bd-a176-54e0dce1fd98",
        "outputId": "7ff12ff8-868d-4531-c357-c4803640f06b",
        "colab": {
          "base_uri": "https://localhost:8080/"
        }
      },
      "outputs": [
        {
          "output_type": "execute_result",
          "data": {
            "text/plain": [
              "[1, 4, 9, 16, 2025, 25]"
            ]
          },
          "metadata": {},
          "execution_count": 97
        }
      ],
      "source": [
        "list(map(lambda x : x**2 , l ))"
      ]
    },
    {
      "cell_type": "code",
      "execution_count": 98,
      "metadata": {
        "id": "ae05fb09-5e00-4f3a-a185-8f43279d34f4",
        "outputId": "5c428aec-3a13-4750-f43c-ab9a98a048ca",
        "colab": {
          "base_uri": "https://localhost:8080/"
        }
      },
      "outputs": [
        {
          "output_type": "execute_result",
          "data": {
            "text/plain": [
              "[11, 12, 13, 14, 55, 15]"
            ]
          },
          "metadata": {},
          "execution_count": 98
        }
      ],
      "source": [
        "list(map(lambda x : x+10 , l ))"
      ]
    },
    {
      "cell_type": "code",
      "execution_count": 99,
      "metadata": {
        "id": "df1049b0-9ede-4c86-9f7f-3d4fa188d18d",
        "outputId": "a6e27bf4-98ed-460c-e5f2-0783db401321",
        "colab": {
          "base_uri": "https://localhost:8080/"
        }
      },
      "outputs": [
        {
          "output_type": "execute_result",
          "data": {
            "text/plain": [
              "['1', '2', '3', '4', '45', '5']"
            ]
          },
          "metadata": {},
          "execution_count": 99
        }
      ],
      "source": [
        "list(map(lambda x : str(x) , l ))"
      ]
    },
    {
      "cell_type": "code",
      "execution_count": 100,
      "metadata": {
        "id": "0e5172d1-93bd-42a9-a6ff-3673ac5c97fe"
      },
      "outputs": [],
      "source": [
        "l1 = [1,2,3,4,5]\n",
        "l2 = [6,7,8,9,10]"
      ]
    },
    {
      "cell_type": "code",
      "execution_count": null,
      "metadata": {
        "id": "21e021e0-2067-4160-848c-b350f1260184"
      },
      "outputs": [],
      "source": [
        "list(map(lambda x,y :x+y , l1,l2))"
      ]
    },
    {
      "cell_type": "code",
      "execution_count": 104,
      "metadata": {
        "id": "32006792-bde2-4b86-ac5b-f1d533ecc9fc",
        "outputId": "1366d361-5c66-4059-b3f2-cf05e161fbb8",
        "colab": {
          "base_uri": "https://localhost:8080/"
        }
      },
      "outputs": [
        {
          "output_type": "execute_result",
          "data": {
            "text/plain": [
              "[7, 9, 11, 13, 15]"
            ]
          },
          "metadata": {},
          "execution_count": 104
        }
      ],
      "source": [
        "list(map(f , l1,l2))"
      ]
    },
    {
      "cell_type": "code",
      "execution_count": 103,
      "metadata": {
        "id": "f888dc50-92c5-40c1-9536-8dec59476cee"
      },
      "outputs": [],
      "source": [
        "f = lambda x,y :x+y"
      ]
    },
    {
      "cell_type": "code",
      "execution_count": 105,
      "metadata": {
        "id": "4b14f547-de37-485f-9b0b-feff5995d545"
      },
      "outputs": [],
      "source": [
        "s = \"pwskills\""
      ]
    },
    {
      "cell_type": "code",
      "execution_count": 106,
      "metadata": {
        "id": "c5e3923e-be92-4057-b49d-e586e7446e1a",
        "outputId": "8968d75f-c638-4f1c-a000-6138bbdd5ca8",
        "colab": {
          "base_uri": "https://localhost:8080/"
        }
      },
      "outputs": [
        {
          "output_type": "execute_result",
          "data": {
            "text/plain": [
              "['P', 'W', 'S', 'K', 'I', 'L', 'L', 'S']"
            ]
          },
          "metadata": {},
          "execution_count": 106
        }
      ],
      "source": [
        "list(map(lambda x : x.upper()  , s))"
      ]
    },
    {
      "cell_type": "code",
      "execution_count": 107,
      "metadata": {
        "id": "4992e79e-b136-47ee-b8cd-5d19d50992f1"
      },
      "outputs": [],
      "source": [
        "from functools import  reduce"
      ]
    },
    {
      "cell_type": "code",
      "execution_count": 108,
      "metadata": {
        "id": "601736f1-5883-4de3-b5e7-0de044aadb95"
      },
      "outputs": [],
      "source": [
        "l = [1,2,3,4,5,4]"
      ]
    },
    {
      "cell_type": "code",
      "execution_count": 109,
      "metadata": {
        "id": "265103e6-71eb-4305-8106-5500ecfffa4c",
        "outputId": "0db11efa-a41d-4a44-ec10-d2502bed225e",
        "colab": {
          "base_uri": "https://localhost:8080/"
        }
      },
      "outputs": [
        {
          "output_type": "execute_result",
          "data": {
            "text/plain": [
              "19"
            ]
          },
          "metadata": {},
          "execution_count": 109
        }
      ],
      "source": [
        "reduce(lambda x , y : x+y , l)"
      ]
    },
    {
      "cell_type": "code",
      "execution_count": 110,
      "metadata": {
        "id": "4c4de31e-e669-47b6-b185-bb1449331d50"
      },
      "outputs": [],
      "source": [
        "def add(x,y):\n",
        "    return x+y"
      ]
    },
    {
      "cell_type": "code",
      "execution_count": 111,
      "metadata": {
        "id": "2ad6ea19-76ac-47f4-98a4-d1e098a4489c",
        "outputId": "71783f9e-fa67-4b8c-f59c-8ed4187a5ff5",
        "colab": {
          "base_uri": "https://localhost:8080/"
        }
      },
      "outputs": [
        {
          "output_type": "execute_result",
          "data": {
            "text/plain": [
              "19"
            ]
          },
          "metadata": {},
          "execution_count": 111
        }
      ],
      "source": [
        "reduce (add , l)"
      ]
    },
    {
      "cell_type": "code",
      "execution_count": 112,
      "metadata": {
        "id": "fb1225e7-7832-480e-99e7-07b2099aba21",
        "outputId": "e1ad7665-b251-402f-bb59-b38b7f05be1a",
        "colab": {
          "base_uri": "https://localhost:8080/",
          "height": 141
        }
      },
      "outputs": [
        {
          "output_type": "error",
          "ename": "TypeError",
          "evalue": "<lambda>() missing 1 required positional argument: 'z'",
          "traceback": [
            "\u001b[0;31m---------------------------------------------------------------------------\u001b[0m",
            "\u001b[0;31mTypeError\u001b[0m                                 Traceback (most recent call last)",
            "\u001b[0;32m<ipython-input-112-59e9f413f978>\u001b[0m in \u001b[0;36m<cell line: 1>\u001b[0;34m()\u001b[0m\n\u001b[0;32m----> 1\u001b[0;31m \u001b[0mreduce\u001b[0m\u001b[0;34m(\u001b[0m\u001b[0;32mlambda\u001b[0m \u001b[0mx\u001b[0m \u001b[0;34m,\u001b[0m \u001b[0my\u001b[0m \u001b[0;34m,\u001b[0m \u001b[0mz\u001b[0m \u001b[0;34m:\u001b[0m \u001b[0mx\u001b[0m\u001b[0;34m+\u001b[0m\u001b[0my\u001b[0m\u001b[0;34m+\u001b[0m\u001b[0mz\u001b[0m \u001b[0;34m,\u001b[0m \u001b[0ml\u001b[0m\u001b[0;34m)\u001b[0m\u001b[0;34m\u001b[0m\u001b[0;34m\u001b[0m\u001b[0m\n\u001b[0m",
            "\u001b[0;31mTypeError\u001b[0m: <lambda>() missing 1 required positional argument: 'z'"
          ]
        }
      ],
      "source": [
        "reduce(lambda x , y , z : x+y+z , l)"
      ]
    },
    {
      "cell_type": "code",
      "execution_count": 113,
      "metadata": {
        "id": "4ecc4abc-2c96-470d-8c8a-d5bcd768d466",
        "outputId": "705a9478-28dc-44a5-ccd2-c2e6188ba35c",
        "colab": {
          "base_uri": "https://localhost:8080/"
        }
      },
      "outputs": [
        {
          "output_type": "execute_result",
          "data": {
            "text/plain": [
              "[1, 2, 3, 4, 5, 4]"
            ]
          },
          "metadata": {},
          "execution_count": 113
        }
      ],
      "source": [
        "l"
      ]
    },
    {
      "cell_type": "code",
      "execution_count": 114,
      "metadata": {
        "id": "62cf7c23-da82-40ee-b202-d7490601c248",
        "outputId": "d8e0cf5f-f325-4656-fae7-c1a824744786",
        "colab": {
          "base_uri": "https://localhost:8080/",
          "height": 141
        }
      },
      "outputs": [
        {
          "output_type": "error",
          "ename": "TypeError",
          "evalue": "reduce() of empty iterable with no initial value",
          "traceback": [
            "\u001b[0;31m---------------------------------------------------------------------------\u001b[0m",
            "\u001b[0;31mTypeError\u001b[0m                                 Traceback (most recent call last)",
            "\u001b[0;32m<ipython-input-114-bbf5afaa7202>\u001b[0m in \u001b[0;36m<cell line: 1>\u001b[0;34m()\u001b[0m\n\u001b[0;32m----> 1\u001b[0;31m \u001b[0mreduce\u001b[0m\u001b[0;34m(\u001b[0m\u001b[0;32mlambda\u001b[0m \u001b[0mx\u001b[0m \u001b[0;34m,\u001b[0m \u001b[0my\u001b[0m \u001b[0;34m:\u001b[0m \u001b[0mx\u001b[0m\u001b[0;34m+\u001b[0m\u001b[0my\u001b[0m \u001b[0;34m,\u001b[0m \u001b[0;34m[\u001b[0m\u001b[0;34m]\u001b[0m\u001b[0;34m)\u001b[0m\u001b[0;34m\u001b[0m\u001b[0;34m\u001b[0m\u001b[0m\n\u001b[0m",
            "\u001b[0;31mTypeError\u001b[0m: reduce() of empty iterable with no initial value"
          ]
        }
      ],
      "source": [
        "reduce(lambda x , y : x+y , [])"
      ]
    },
    {
      "cell_type": "code",
      "execution_count": 115,
      "metadata": {
        "id": "0b8dd005-d350-410f-afe2-2a099b9c8e28",
        "outputId": "f9f20990-6708-43cd-fb16-eba914daae80",
        "colab": {
          "base_uri": "https://localhost:8080/"
        }
      },
      "outputs": [
        {
          "output_type": "execute_result",
          "data": {
            "text/plain": [
              "1"
            ]
          },
          "metadata": {},
          "execution_count": 115
        }
      ],
      "source": [
        "reduce(lambda x , y : x+y , [1])"
      ]
    },
    {
      "cell_type": "code",
      "execution_count": null,
      "metadata": {
        "id": "9309dc03-b2b4-4be6-994e-1cdb209f3f7f",
        "outputId": "6095469f-1211-48f8-b54d-ef0451efb682"
      },
      "outputs": [
        {
          "data": {
            "text/plain": [
              "1"
            ]
          },
          "execution_count": 29,
          "metadata": {},
          "output_type": "execute_result"
        }
      ],
      "source": [
        "reduce(lambda x , y : x*y , [1])"
      ]
    },
    {
      "cell_type": "code",
      "execution_count": 116,
      "metadata": {
        "id": "c0de5ab4-e4c5-40a6-8195-0bbdf4d19932",
        "outputId": "e8578b91-6ce6-4a27-d022-66850984206a",
        "colab": {
          "base_uri": "https://localhost:8080/"
        }
      },
      "outputs": [
        {
          "output_type": "execute_result",
          "data": {
            "text/plain": [
              "[1, 2, 3, 4, 5, 4]"
            ]
          },
          "metadata": {},
          "execution_count": 116
        }
      ],
      "source": [
        "l"
      ]
    },
    {
      "cell_type": "code",
      "execution_count": 117,
      "metadata": {
        "id": "a257a87f-08c7-492c-afd9-a90f1cbb7d56",
        "outputId": "03101479-a4be-47d6-b4cd-edc816808161",
        "colab": {
          "base_uri": "https://localhost:8080/"
        }
      },
      "outputs": [
        {
          "output_type": "execute_result",
          "data": {
            "text/plain": [
              "5"
            ]
          },
          "metadata": {},
          "execution_count": 117
        }
      ],
      "source": [
        "reduce(lambda x,y : x if x> y else y , l)"
      ]
    },
    {
      "cell_type": "code",
      "execution_count": 118,
      "metadata": {
        "id": "5833c6a3-6d0b-4766-80fd-02494e57f951",
        "outputId": "b02456c5-b2f3-4ca8-f764-acf081a6587e",
        "colab": {
          "base_uri": "https://localhost:8080/"
        }
      },
      "outputs": [
        {
          "output_type": "execute_result",
          "data": {
            "text/plain": [
              "[1, 2, 3, 4, 5, 4]"
            ]
          },
          "metadata": {},
          "execution_count": 118
        }
      ],
      "source": [
        "l"
      ]
    },
    {
      "cell_type": "code",
      "execution_count": 119,
      "metadata": {
        "id": "3e5ee63c-df8d-4ca2-8c7e-c187a97df649",
        "outputId": "c1b8ef8c-39b6-4203-da21-b005cb556ec0",
        "colab": {
          "base_uri": "https://localhost:8080/"
        }
      },
      "outputs": [
        {
          "output_type": "execute_result",
          "data": {
            "text/plain": [
              "[2, 4, 4]"
            ]
          },
          "metadata": {},
          "execution_count": 119
        }
      ],
      "source": [
        "list(filter(lambda x : x % 2 ==0 , l))"
      ]
    },
    {
      "cell_type": "code",
      "execution_count": 120,
      "metadata": {
        "id": "5886b6c8-c840-46c4-ac12-b429aacc55b5",
        "outputId": "13e5e93f-fcc2-4abf-c66f-e4fa3ff858e5",
        "colab": {
          "base_uri": "https://localhost:8080/"
        }
      },
      "outputs": [
        {
          "output_type": "execute_result",
          "data": {
            "text/plain": [
              "[1, 3, 5]"
            ]
          },
          "metadata": {},
          "execution_count": 120
        }
      ],
      "source": [
        "list(filter(lambda x : x % 2 !=0 , l))"
      ]
    },
    {
      "cell_type": "code",
      "execution_count": 121,
      "metadata": {
        "id": "9029e86d-db6d-4393-ac40-7f2d287ae585"
      },
      "outputs": [],
      "source": [
        "l1 = [-2,4,5,6,-3,-6,-7]"
      ]
    },
    {
      "cell_type": "code",
      "execution_count": 122,
      "metadata": {
        "id": "6b079de0-59bd-4b38-82e3-cb500752ac41",
        "outputId": "ffa7124f-4fc7-47cd-af75-c67d62c6965a",
        "colab": {
          "base_uri": "https://localhost:8080/"
        }
      },
      "outputs": [
        {
          "output_type": "execute_result",
          "data": {
            "text/plain": [
              "[-2, -3, -6, -7]"
            ]
          },
          "metadata": {},
          "execution_count": 122
        }
      ],
      "source": [
        "list(filter(lambda x : x < 0 , l1))"
      ]
    },
    {
      "cell_type": "code",
      "execution_count": 123,
      "metadata": {
        "id": "253fd96a-fad0-4cf5-95a7-2d763b058560",
        "outputId": "49294c9f-d20b-4e34-ed61-a27b91e4b87f",
        "colab": {
          "base_uri": "https://localhost:8080/"
        }
      },
      "outputs": [
        {
          "output_type": "execute_result",
          "data": {
            "text/plain": [
              "[4, 5, 6]"
            ]
          },
          "metadata": {},
          "execution_count": 123
        }
      ],
      "source": [
        "list(filter(lambda x : x >= 0 , l1))"
      ]
    },
    {
      "cell_type": "code",
      "execution_count": 124,
      "metadata": {
        "id": "37919dae-d4d7-4bab-a1e4-f6cb9d58e251"
      },
      "outputs": [],
      "source": [
        "l2 = [\"sudh\" , \"pwskills\" , \"kumar\" , \"bengalore\" , \"krish\"]"
      ]
    },
    {
      "cell_type": "code",
      "execution_count": 125,
      "metadata": {
        "id": "18fd3d63-4ee2-4662-b808-18b8442adc28",
        "outputId": "c86628e6-0d58-4231-8aee-06179759cd6d",
        "colab": {
          "base_uri": "https://localhost:8080/"
        }
      },
      "outputs": [
        {
          "output_type": "execute_result",
          "data": {
            "text/plain": [
              "['sudh', 'kumar', 'krish']"
            ]
          },
          "metadata": {},
          "execution_count": 125
        }
      ],
      "source": [
        "list(filter(lambda x : len(x) < 6 , l2))"
      ]
    }
  ]
}